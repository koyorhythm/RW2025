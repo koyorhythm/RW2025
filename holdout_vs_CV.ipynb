{
  "nbformat": 4,
  "nbformat_minor": 0,
  "metadata": {
    "colab": {
      "provenance": [],
      "authorship_tag": "ABX9TyMUmZjQZYXYgyM/ZcWE2k1I",
      "include_colab_link": true
    },
    "kernelspec": {
      "name": "python3",
      "display_name": "Python 3"
    },
    "language_info": {
      "name": "python"
    }
  },
  "cells": [
    {
      "cell_type": "markdown",
      "metadata": {
        "id": "view-in-github",
        "colab_type": "text"
      },
      "source": [
        "<a href=\"https://colab.research.google.com/github/ymuto0302/RW2025/blob/main/holdout_vs_CV.ipynb\" target=\"_parent\"><img src=\"https://colab.research.google.com/assets/colab-badge.svg\" alt=\"Open In Colab\"/></a>"
      ]
    },
    {
      "cell_type": "markdown",
      "source": [
        "# ホールドアウト法と交差検証法の比較実験\n",
        "以下では Wine Dataset の場合のコードのみを示している。"
      ],
      "metadata": {
        "id": "ualD1uHHF82n"
      }
    },
    {
      "cell_type": "markdown",
      "source": [
        "### ライブラリのインポート"
      ],
      "metadata": {
        "id": "bcDed0EAFqiG"
      }
    },
    {
      "cell_type": "code",
      "source": [
        "# 必要なライブラリのインポート\n",
        "import numpy as np\n",
        "from sklearn.datasets import load_wine, load_breast_cancer\n",
        "from sklearn.tree import DecisionTreeClassifier\n",
        "from sklearn.model_selection import train_test_split, cross_val_score, StratifiedKFold\n",
        "from sklearn.metrics import accuracy_score\n",
        "import time"
      ],
      "metadata": {
        "id": "LwSTGKfbEctS"
      },
      "execution_count": 1,
      "outputs": []
    },
    {
      "cell_type": "markdown",
      "source": [
        "### データセットの読み込み"
      ],
      "metadata": {
        "id": "nKMcLTJmE0TQ"
      }
    },
    {
      "cell_type": "code",
      "source": [
        "# データセット読み込み\n",
        "wine = load_wine()\n",
        "X, y = wine.data, wine.target"
      ],
      "metadata": {
        "id": "zVe2Kpr9EXP6"
      },
      "execution_count": 2,
      "outputs": []
    },
    {
      "cell_type": "markdown",
      "source": [
        "### ホールドアウト法：訓練・テストの分割比率が与える影響"
      ],
      "metadata": {
        "id": "GvECZV7WEm9w"
      }
    },
    {
      "cell_type": "code",
      "source": [
        "for test_size in [0.2, 0.3, 0.4, 0.5]:\n",
        "    print(\"-----------------\")\n",
        "    print(f\"訓練:テスト = {1-test_size:.1f}:{test_size:.1f}\")\n",
        "\n",
        "    # 複数回実行して分散を計算\n",
        "    accuracies = [] # 正解率を保存するためのリスト\n",
        "    for random_state in range(10):\n",
        "        X_train, X_test, y_train, y_test = train_test_split(\n",
        "            X, y, test_size=test_size, random_state=random_state, stratify=y\n",
        "        )\n",
        "\n",
        "        model = DecisionTreeClassifier(random_state=42)\n",
        "        model.fit(X_train, y_train)\n",
        "        y_pred = model.predict(X_test)\n",
        "        accuracy = accuracy_score(y_test, y_pred)\n",
        "        accuracies.append(accuracy)\n",
        "\n",
        "    print(f\"正解率(平均±標準偏差): {np.mean(accuracies):.3f} ± {np.std(accuracies):.3f}\")"
      ],
      "metadata": {
        "id": "FvPxJvr6Eip6"
      },
      "execution_count": null,
      "outputs": []
    },
    {
      "cell_type": "markdown",
      "source": [
        "### ホールドアウト法：訓練・テストへの分割の際の乱数シードが与える影響"
      ],
      "metadata": {
        "id": "FaD2-nrXFAIP"
      }
    },
    {
      "cell_type": "code",
      "source": [
        "accuracies = [] # 正解率を保存するためのリスト\n",
        "\n",
        "for random_state in range(20):\n",
        "    X_train, X_test, y_train, y_test = train_test_split(\n",
        "        X, y, test_size=0.3,\n",
        "        random_state=random_state, stratify=y\n",
        "    )\n",
        "\n",
        "    model = DecisionTreeClassifier(random_state=42)\n",
        "    model.fit(X_train, y_train)\n",
        "    y_pred = model.predict(X_test)\n",
        "    accuracy = accuracy_score(y_test, y_pred)\n",
        "    accuracies.append(accuracy)\n",
        "\n",
        "print(f\"正解率(平均±標準偏差): {np.mean(accuracies):.3f} ± {np.std(accuracies):.3f}\")\n",
        "print(f\"正解率の最小値: {np.min(accuracies):.3f}\")\n",
        "print(f\"正解率の最大値: {np.max(accuracies):.3f}\")\n"
      ],
      "metadata": {
        "id": "3AYhCVi2EkBJ"
      },
      "execution_count": null,
      "outputs": []
    },
    {
      "cell_type": "markdown",
      "source": [
        "### 交差検証法：fold数が与える影響"
      ],
      "metadata": {
        "id": "ahQVajn8FLgh"
      }
    },
    {
      "cell_type": "code",
      "source": [
        "model = DecisionTreeClassifier(random_state=42)\n",
        "folds = [3, 5, 10, 20]\n",
        "\n",
        "accuracies = [] # 正解率を保存するためのリスト\n",
        "\n",
        "for k in folds:\n",
        "    cv = StratifiedKFold(n_splits=k, shuffle=True, random_state=42)\n",
        "    cv_name = f\"{k}-Fold\"\n",
        "\n",
        "    start_time = time.time() # 開始時刻\n",
        "    scores = cross_val_score(model, X, y, cv=cv, scoring='accuracy')\n",
        "    end_time = time.time() # 終了時刻\n",
        "\n",
        "    print(\"------------------------------\")\n",
        "    print(f\"{cv_name} CV:\")\n",
        "    print(f\"正解率(平均±標準偏差): {scores.mean():.3f} ± {scores.std():.3f}\")\n",
        "    print(f\"実行時間: {end_time - start_time:.3f} sec\")"
      ],
      "metadata": {
        "id": "t3-H04uqEj-Y"
      },
      "execution_count": null,
      "outputs": []
    }
  ]
}