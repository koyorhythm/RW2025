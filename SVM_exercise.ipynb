{
  "nbformat": 4,
  "nbformat_minor": 0,
  "metadata": {
    "colab": {
      "provenance": [],
      "include_colab_link": true
    },
    "kernelspec": {
      "name": "python3",
      "display_name": "Python 3"
    },
    "language_info": {
      "name": "python"
    }
  },
  "cells": [
    {
      "cell_type": "markdown",
      "metadata": {
        "id": "view-in-github",
        "colab_type": "text"
      },
      "source": [
        "<a href=\"https://colab.research.google.com/github/koyorhythm/RW2025/blob/main/SVM_exercise.ipynb\" target=\"_parent\"><img src=\"https://colab.research.google.com/assets/colab-badge.svg\" alt=\"Open In Colab\"/></a>"
      ]
    },
    {
      "cell_type": "markdown",
      "source": [
        "# SVMを用いたIris データセットの分類と可視化"
      ],
      "metadata": {
        "id": "NSWpNx0Rb_rq"
      }
    },
    {
      "cell_type": "markdown",
      "source": [
        "## 環境設定とデータ準備"
      ],
      "metadata": {
        "id": "E9Do1LGtcE5K"
      }
    },
    {
      "cell_type": "code",
      "execution_count": null,
      "metadata": {
        "id": "qsFAH89kbgJQ"
      },
      "outputs": [],
      "source": [
        "import matplotlib.pyplot as plt\n",
        "from sklearn.datasets import load_iris, make_moons\n",
        "from sklearn.model_selection import train_test_split\n",
        "from sklearn.preprocessing import StandardScaler\n",
        "from sklearn.svm import SVC\n",
        "from sklearn.metrics import accuracy_score, confusion_matrix, classification_report\n",
        "from sklearn.model_selection import GridSearchCV\n",
        "\n",
        "# データセットの読み込みと前処理\n",
        "iris = load_iris()\n",
        "X, y = iris.data, iris.target\n",
        "\n",
        "# データ分割\n",
        "X_train, X_test, y_train, y_test = train_test_split(\n",
        "    X, y, test_size=0.25, random_state=42, stratify=y\n",
        ")\n",
        "\n",
        "# データの標準化\n",
        "scaler = StandardScaler()\n",
        "X_train_scaled = scaler.fit_transform(X_train)\n",
        "X_test_scaled = scaler.transform(X_test)"
      ]
    },
    {
      "cell_type": "markdown",
      "source": [
        "## SVMモデルの構築と評価"
      ],
      "metadata": {
        "id": "VXxbK0CicKq6"
      }
    },
    {
      "cell_type": "code",
      "source": [
        "def train_and_evaluate_svm(X_train, X_test, y_train, y_test, kernel, C=1.0, degree=3, gamma='scale'):\n",
        "    if kernel == 'poly':\n",
        "        svm = SVC(kernel=kernel, C=C, degree=degree, gamma=gamma)\n",
        "    else:\n",
        "        svm = SVC(kernel=kernel, C=C, gamma=gamma)\n",
        "    svm.fit(X_train, y_train)\n",
        "    y_pred = svm.predict(X_test)\n",
        "    accuracy = accuracy_score(y_test, y_pred)\n",
        "    print(f\"Kernel: {kernel}, Accuracy: {accuracy:.2f}\")\n",
        "    print(classification_report(y_test, y_pred))\n",
        "    return svm\n",
        "\n",
        "# 異なるカーネルでSVMを訓練・評価\n",
        "kernels = ['linear', 'poly', 'rbf']\n",
        "for kernel in kernels:\n",
        "    train_and_evaluate_svm(X_train_scaled, X_test_scaled, y_train, y_test, kernel)"
      ],
      "metadata": {
        "id": "xLHq_TBvcOKH"
      },
      "execution_count": null,
      "outputs": []
    },
    {
      "cell_type": "markdown",
      "source": [
        "## ハイパーパラメータCの影響分析"
      ],
      "metadata": {
        "id": "csMcDe_icTH4"
      }
    },
    {
      "cell_type": "code",
      "source": [
        "C_values = [0.001, 0.01, 0.1, 1, 10, 100]\n",
        "accuracies = []\n",
        "\n",
        "for C in C_values:\n",
        "    svm = SVC(kernel='rbf', C=C)\n",
        "    svm.fit(X_train_scaled, y_train)\n",
        "    y_pred = svm.predict(X_test_scaled)\n",
        "    score = accuracy_score(y_test, y_pred)\n",
        "    print(f\"C: {C}, Accuracy: {score:.2f}\")\n",
        "    accuracies.append(score) # この後の可視化のため，正解率をストック\n",
        "\n",
        "# 一応可視化\n",
        "plt.plot(C_values, accuracies)\n",
        "plt.xscale('log')\n",
        "plt.xlabel('C value')\n",
        "plt.ylabel('Accuracy')\n",
        "plt.title('SVM Performance vs C value (Iris dataset)')\n",
        "plt.show()"
      ],
      "metadata": {
        "id": "aqgs2Ed6cRFq"
      },
      "execution_count": null,
      "outputs": []
    },
    {
      "cell_type": "code",
      "source": [
        "from sklearn.datasets import fetch_olivetti_faces\n",
        "\n",
        "# データセット取得\n",
        "faces = fetch_olivetti_faces(shuffle=True)\n",
        "X, y = faces.data, faces.target"
      ],
      "metadata": {
        "id": "w2Vp9CYdnsmZ",
        "outputId": "062ec3ff-6888-4906-cc50-797995af5e7a",
        "colab": {
          "base_uri": "https://localhost:8080/"
        }
      },
      "execution_count": 1,
      "outputs": [
        {
          "output_type": "stream",
          "name": "stdout",
          "text": [
            "downloading Olivetti faces from https://ndownloader.figshare.com/files/5976027 to /root/scikit_learn_data\n"
          ]
        }
      ]
    },
    {
      "cell_type": "code",
      "source": [
        "from sklearn.model_selection import train_test_split\n",
        "from sklearn.preprocessing import StandardScaler\n",
        "\n",
        "# データ分割\n",
        "X_train, X_test, y_train, y_test = train_test_split(\n",
        "    X, y, test_size=0.25, random_state=42, stratify=y\n",
        ")\n",
        "\n",
        "# データの前処理（標準化）\n",
        "scaler = StandardScaler()\n",
        "X_train_scaled = scaler.fit_transform(X_train)\n",
        "X_test_scaled = scaler.transform(X_test)"
      ],
      "metadata": {
        "id": "wKsuvLsYnLac"
      },
      "execution_count": 2,
      "outputs": []
    },
    {
      "cell_type": "code",
      "source": [
        "from sklearn.svm import SVC\n",
        "from sklearn.metrics import accuracy_score, confusion_matrix, ConfusionMatrixDisplay, classification_report\n",
        "import matplotlib.pyplot as plt\n",
        "\n",
        "# 線形カーネル SVM\n",
        "svm_linear = SVC(kernel='linear', C=1.0)\n",
        "svm_linear.fit(X_train_scaled, y_train)\n",
        "y_pred = svm_linear.predict(X_test_scaled)\n",
        "\n",
        "# 評価\n",
        "print(\"Accuracy:\", accuracy_score(y_test, y_pred))\n",
        "print(classification_report(y_test, y_pred))\n",
        "\n",
        "# 混同行列の表示\n",
        "cm = confusion_matrix(y_test, y_pred)\n",
        "disp = ConfusionMatrixDisplay(confusion_matrix=cm)\n",
        "disp.plot(cmap='Blues', xticks_rotation='vertical', values_format='d')\n",
        "plt.title(\"Confusion Matrix (Linear Kernel)\")\n",
        "plt.show()"
      ],
      "metadata": {
        "id": "JiSwI71xoKm-",
        "outputId": "2d649c7e-7750-4a76-9d66-127d5b342e2b",
        "colab": {
          "base_uri": "https://localhost:8080/",
          "height": 1000
        }
      },
      "execution_count": 3,
      "outputs": [
        {
          "output_type": "stream",
          "name": "stdout",
          "text": [
            "Accuracy: 0.95\n",
            "              precision    recall  f1-score   support\n",
            "\n",
            "           0       1.00      1.00      1.00         2\n",
            "           1       1.00      1.00      1.00         3\n",
            "           2       0.75      1.00      0.86         3\n",
            "           3       1.00      1.00      1.00         3\n",
            "           4       1.00      1.00      1.00         2\n",
            "           5       1.00      1.00      1.00         3\n",
            "           6       1.00      1.00      1.00         2\n",
            "           7       0.67      0.67      0.67         3\n",
            "           8       1.00      1.00      1.00         2\n",
            "           9       1.00      0.50      0.67         2\n",
            "          10       1.00      1.00      1.00         3\n",
            "          11       1.00      1.00      1.00         3\n",
            "          12       1.00      1.00      1.00         2\n",
            "          13       1.00      1.00      1.00         2\n",
            "          14       1.00      1.00      1.00         3\n",
            "          15       1.00      1.00      1.00         2\n",
            "          16       1.00      1.00      1.00         2\n",
            "          17       0.67      1.00      0.80         2\n",
            "          18       1.00      1.00      1.00         3\n",
            "          19       1.00      1.00      1.00         2\n",
            "          20       1.00      1.00      1.00         3\n",
            "          21       1.00      0.67      0.80         3\n",
            "          22       0.75      1.00      0.86         3\n",
            "          23       1.00      1.00      1.00         3\n",
            "          24       1.00      1.00      1.00         2\n",
            "          25       0.00      0.00      0.00         2\n",
            "          26       1.00      1.00      1.00         2\n",
            "          27       1.00      1.00      1.00         2\n",
            "          28       1.00      1.00      1.00         3\n",
            "          29       1.00      1.00      1.00         3\n",
            "          30       1.00      1.00      1.00         3\n",
            "          31       1.00      1.00      1.00         2\n",
            "          32       1.00      1.00      1.00         3\n",
            "          33       1.00      1.00      1.00         2\n",
            "          34       1.00      1.00      1.00         2\n",
            "          35       1.00      1.00      1.00         3\n",
            "          36       1.00      1.00      1.00         3\n",
            "          37       1.00      1.00      1.00         2\n",
            "          38       0.75      1.00      0.86         3\n",
            "          39       1.00      1.00      1.00         2\n",
            "\n",
            "    accuracy                           0.95       100\n",
            "   macro avg       0.94      0.95      0.94       100\n",
            "weighted avg       0.94      0.95      0.94       100\n",
            "\n"
          ]
        },
        {
          "output_type": "stream",
          "name": "stderr",
          "text": [
            "/usr/local/lib/python3.11/dist-packages/sklearn/metrics/_classification.py:1565: UndefinedMetricWarning: Precision is ill-defined and being set to 0.0 in labels with no predicted samples. Use `zero_division` parameter to control this behavior.\n",
            "  _warn_prf(average, modifier, f\"{metric.capitalize()} is\", len(result))\n",
            "/usr/local/lib/python3.11/dist-packages/sklearn/metrics/_classification.py:1565: UndefinedMetricWarning: Precision is ill-defined and being set to 0.0 in labels with no predicted samples. Use `zero_division` parameter to control this behavior.\n",
            "  _warn_prf(average, modifier, f\"{metric.capitalize()} is\", len(result))\n",
            "/usr/local/lib/python3.11/dist-packages/sklearn/metrics/_classification.py:1565: UndefinedMetricWarning: Precision is ill-defined and being set to 0.0 in labels with no predicted samples. Use `zero_division` parameter to control this behavior.\n",
            "  _warn_prf(average, modifier, f\"{metric.capitalize()} is\", len(result))\n"
          ]
        },
        {
          "output_type": "display_data",
          "data": {
            "text/plain": [
              "<Figure size 640x480 with 2 Axes>"
            ],
            "image/png": "[encoded data removed]"
          },
          "metadata": {}
        }
      ]
    },
    {
      "cell_type": "code",
      "source": [
        "kernels = ['linear', 'poly', 'rbf']\n",
        "for kernel in kernels:\n",
        "    print(f\"\\n=== Kernel: {kernel} ===\")\n",
        "    svm = SVC(kernel=kernel, C=1.0, degree=3)  # degreeはpoly用\n",
        "    svm.fit(X_train_scaled, y_train)\n",
        "    y_pred = svm.predict(X_test_scaled)\n",
        "    print(\"Accuracy:\", accuracy_score(y_test, y_pred))\n",
        "    print(classification_report(y_test, y_pred))\n",
        ""
      ],
      "metadata": {
        "id": "QC-Bk2H0oPtY",
        "outputId": "a9b1464c-e2b0-4927-ead5-d72dd5f346b8",
        "colab": {
          "base_uri": "https://localhost:8080/"
        }
      },
      "execution_count": 4,
      "outputs": [
        {
          "output_type": "stream",
          "name": "stdout",
          "text": [
            "\n",
            "=== Kernel: linear ===\n",
            "Accuracy: 0.95\n",
            "              precision    recall  f1-score   support\n",
            "\n",
            "           0       1.00      1.00      1.00         2\n",
            "           1       1.00      1.00      1.00         3\n",
            "           2       0.75      1.00      0.86         3\n",
            "           3       1.00      1.00      1.00         3\n",
            "           4       1.00      1.00      1.00         2\n",
            "           5       1.00      1.00      1.00         3\n",
            "           6       1.00      1.00      1.00         2\n",
            "           7       0.67      0.67      0.67         3\n",
            "           8       1.00      1.00      1.00         2\n",
            "           9       1.00      0.50      0.67         2\n",
            "          10       1.00      1.00      1.00         3\n",
            "          11       1.00      1.00      1.00         3\n",
            "          12       1.00      1.00      1.00         2\n",
            "          13       1.00      1.00      1.00         2\n",
            "          14       1.00      1.00      1.00         3\n",
            "          15       1.00      1.00      1.00         2\n",
            "          16       1.00      1.00      1.00         2\n",
            "          17       0.67      1.00      0.80         2\n",
            "          18       1.00      1.00      1.00         3\n",
            "          19       1.00      1.00      1.00         2\n",
            "          20       1.00      1.00      1.00         3\n",
            "          21       1.00      0.67      0.80         3\n",
            "          22       0.75      1.00      0.86         3\n",
            "          23       1.00      1.00      1.00         3\n",
            "          24       1.00      1.00      1.00         2\n",
            "          25       0.00      0.00      0.00         2\n",
            "          26       1.00      1.00      1.00         2\n",
            "          27       1.00      1.00      1.00         2\n",
            "          28       1.00      1.00      1.00         3\n",
            "          29       1.00      1.00      1.00         3\n",
            "          30       1.00      1.00      1.00         3\n",
            "          31       1.00      1.00      1.00         2\n",
            "          32       1.00      1.00      1.00         3\n",
            "          33       1.00      1.00      1.00         2\n",
            "          34       1.00      1.00      1.00         2\n",
            "          35       1.00      1.00      1.00         3\n",
            "          36       1.00      1.00      1.00         3\n",
            "          37       1.00      1.00      1.00         2\n",
            "          38       0.75      1.00      0.86         3\n",
            "          39       1.00      1.00      1.00         2\n",
            "\n",
            "    accuracy                           0.95       100\n",
            "   macro avg       0.94      0.95      0.94       100\n",
            "weighted avg       0.94      0.95      0.94       100\n",
            "\n",
            "\n",
            "=== Kernel: poly ===\n"
          ]
        },
        {
          "output_type": "stream",
          "name": "stderr",
          "text": [
            "/usr/local/lib/python3.11/dist-packages/sklearn/metrics/_classification.py:1565: UndefinedMetricWarning: Precision is ill-defined and being set to 0.0 in labels with no predicted samples. Use `zero_division` parameter to control this behavior.\n",
            "  _warn_prf(average, modifier, f\"{metric.capitalize()} is\", len(result))\n",
            "/usr/local/lib/python3.11/dist-packages/sklearn/metrics/_classification.py:1565: UndefinedMetricWarning: Precision is ill-defined and being set to 0.0 in labels with no predicted samples. Use `zero_division` parameter to control this behavior.\n",
            "  _warn_prf(average, modifier, f\"{metric.capitalize()} is\", len(result))\n",
            "/usr/local/lib/python3.11/dist-packages/sklearn/metrics/_classification.py:1565: UndefinedMetricWarning: Precision is ill-defined and being set to 0.0 in labels with no predicted samples. Use `zero_division` parameter to control this behavior.\n",
            "  _warn_prf(average, modifier, f\"{metric.capitalize()} is\", len(result))\n"
          ]
        },
        {
          "output_type": "stream",
          "name": "stdout",
          "text": [
            "Accuracy: 0.56\n",
            "              precision    recall  f1-score   support\n",
            "\n",
            "           0       0.00      0.00      0.00         2\n",
            "           1       1.00      0.67      0.80         3\n",
            "           2       0.00      0.00      0.00         3\n",
            "           3       0.00      0.00      0.00         3\n",
            "           4       1.00      1.00      1.00         2\n",
            "           5       1.00      0.67      0.80         3\n",
            "           6       1.00      1.00      1.00         2\n",
            "           7       1.00      0.67      0.80         3\n",
            "           8       1.00      0.50      0.67         2\n",
            "           9       1.00      0.50      0.67         2\n",
            "          10       1.00      1.00      1.00         3\n",
            "          11       1.00      0.67      0.80         3\n",
            "          12       0.00      0.00      0.00         2\n",
            "          13       1.00      0.50      0.67         2\n",
            "          14       0.00      0.00      0.00         3\n",
            "          15       0.00      0.00      0.00         2\n",
            "          16       0.00      0.00      0.00         2\n",
            "          17       0.67      1.00      0.80         2\n",
            "          18       1.00      0.67      0.80         3\n",
            "          19       1.00      0.50      0.67         2\n",
            "          20       0.00      0.00      0.00         3\n",
            "          21       1.00      1.00      1.00         3\n",
            "          22       0.00      0.00      0.00         3\n",
            "          23       1.00      0.67      0.80         3\n",
            "          24       0.05      1.00      0.09         2\n",
            "          25       0.00      0.00      0.00         2\n",
            "          26       1.00      1.00      1.00         2\n",
            "          27       1.00      1.00      1.00         2\n",
            "          28       1.00      0.33      0.50         3\n",
            "          29       1.00      0.33      0.50         3\n",
            "          30       1.00      0.67      0.80         3\n",
            "          31       1.00      0.50      0.67         2\n",
            "          32       1.00      1.00      1.00         3\n",
            "          33       1.00      1.00      1.00         2\n",
            "          34       1.00      0.50      0.67         2\n",
            "          35       1.00      0.67      0.80         3\n",
            "          36       1.00      1.00      1.00         3\n",
            "          37       0.67      1.00      0.80         2\n",
            "          38       1.00      1.00      1.00         3\n",
            "          39       1.00      0.50      0.67         2\n",
            "\n",
            "    accuracy                           0.56       100\n",
            "   macro avg       0.71      0.56      0.59       100\n",
            "weighted avg       0.72      0.56      0.60       100\n",
            "\n",
            "\n",
            "=== Kernel: rbf ===\n"
          ]
        },
        {
          "output_type": "stream",
          "name": "stderr",
          "text": [
            "/usr/local/lib/python3.11/dist-packages/sklearn/metrics/_classification.py:1565: UndefinedMetricWarning: Precision is ill-defined and being set to 0.0 in labels with no predicted samples. Use `zero_division` parameter to control this behavior.\n",
            "  _warn_prf(average, modifier, f\"{metric.capitalize()} is\", len(result))\n",
            "/usr/local/lib/python3.11/dist-packages/sklearn/metrics/_classification.py:1565: UndefinedMetricWarning: Precision is ill-defined and being set to 0.0 in labels with no predicted samples. Use `zero_division` parameter to control this behavior.\n",
            "  _warn_prf(average, modifier, f\"{metric.capitalize()} is\", len(result))\n",
            "/usr/local/lib/python3.11/dist-packages/sklearn/metrics/_classification.py:1565: UndefinedMetricWarning: Precision is ill-defined and being set to 0.0 in labels with no predicted samples. Use `zero_division` parameter to control this behavior.\n",
            "  _warn_prf(average, modifier, f\"{metric.capitalize()} is\", len(result))\n"
          ]
        },
        {
          "output_type": "stream",
          "name": "stdout",
          "text": [
            "Accuracy: 0.91\n",
            "              precision    recall  f1-score   support\n",
            "\n",
            "           0       0.67      1.00      0.80         2\n",
            "           1       1.00      1.00      1.00         3\n",
            "           2       0.75      1.00      0.86         3\n",
            "           3       1.00      0.33      0.50         3\n",
            "           4       1.00      1.00      1.00         2\n",
            "           5       1.00      1.00      1.00         3\n",
            "           6       1.00      1.00      1.00         2\n",
            "           7       0.67      0.67      0.67         3\n",
            "           8       1.00      1.00      1.00         2\n",
            "           9       1.00      0.50      0.67         2\n",
            "          10       1.00      1.00      1.00         3\n",
            "          11       1.00      1.00      1.00         3\n",
            "          12       1.00      1.00      1.00         2\n",
            "          13       1.00      1.00      1.00         2\n",
            "          14       1.00      1.00      1.00         3\n",
            "          15       1.00      1.00      1.00         2\n",
            "          16       1.00      0.50      0.67         2\n",
            "          17       1.00      1.00      1.00         2\n",
            "          18       1.00      1.00      1.00         3\n",
            "          19       0.67      1.00      0.80         2\n",
            "          20       1.00      1.00      1.00         3\n",
            "          21       1.00      0.67      0.80         3\n",
            "          22       0.50      1.00      0.67         3\n",
            "          23       1.00      0.67      0.80         3\n",
            "          24       1.00      1.00      1.00         2\n",
            "          25       0.00      0.00      0.00         2\n",
            "          26       1.00      1.00      1.00         2\n",
            "          27       1.00      1.00      1.00         2\n",
            "          28       1.00      1.00      1.00         3\n",
            "          29       1.00      1.00      1.00         3\n",
            "          30       1.00      1.00      1.00         3\n",
            "          31       1.00      1.00      1.00         2\n",
            "          32       1.00      1.00      1.00         3\n",
            "          33       1.00      1.00      1.00         2\n",
            "          34       1.00      1.00      1.00         2\n",
            "          35       1.00      1.00      1.00         3\n",
            "          36       1.00      1.00      1.00         3\n",
            "          37       1.00      1.00      1.00         2\n",
            "          38       0.75      1.00      0.86         3\n",
            "          39       1.00      1.00      1.00         2\n",
            "\n",
            "    accuracy                           0.91       100\n",
            "   macro avg       0.93      0.91      0.90       100\n",
            "weighted avg       0.93      0.91      0.90       100\n",
            "\n"
          ]
        }
      ]
    },
    {
      "cell_type": "code",
      "source": [
        "C_values = [0.1, 10, 100]\n",
        "accuracies = []\n",
        "\n",
        "for C in C_values:\n",
        "    svm = SVC(kernel='rbf', C=C)\n",
        "    svm.fit(X_train_scaled, y_train)\n",
        "    y_pred = svm.predict(X_test_scaled)\n",
        "    acc = accuracy_score(y_test, y_pred)\n",
        "    accuracies.append(acc)\n",
        "    print(f\"C = {C}, Accuracy = {acc:.2f}\")\n",
        "\n",
        "# 可視化\n",
        "plt.figure()\n",
        "plt.plot(C_values, accuracies, marker='o')\n",
        "plt.xscale('log')\n",
        "plt.xlabel('C value (log scale)')\n",
        "plt.ylabel('Accuracy')\n",
        "plt.title('Effect of C on RBF SVM')\n",
        "plt.grid(True)\n",
        "plt.show()"
      ],
      "metadata": {
        "id": "Aow3oBj0oWCx",
        "outputId": "90de9925-a3f8-4428-868d-5485c6aaf9f8",
        "colab": {
          "base_uri": "https://localhost:8080/",
          "height": 530
        }
      },
      "execution_count": 5,
      "outputs": [
        {
          "output_type": "stream",
          "name": "stdout",
          "text": [
            "C = 0.1, Accuracy = 0.36\n",
            "C = 10, Accuracy = 0.93\n",
            "C = 100, Accuracy = 0.93\n"
          ]
        },
        {
          "output_type": "display_data",
          "data": {
            "text/plain": [
              "<Figure size 640x480 with 1 Axes>"
            ],
            "image/png": "[encoded data removed]"
          },
          "metadata": {}
        }
      ]
    },
    {
      "cell_type": "code",
      "source": [
        "from sklearn.model_selection import GridSearchCV\n",
        "\n",
        "# グリッドパラメータ設定\n",
        "param_grid = {\n",
        "    'C': [1, 10, 100],\n",
        "    'gamma': ['scale', 0.001, 0.01, 0.1, 1]\n",
        "}\n",
        "\n",
        "# RBF SVM + グリッドサーチ\n",
        "grid_search = GridSearchCV(SVC(kernel='rbf'), param_grid, cv=5, n_jobs=-1, verbose=1)\n",
        "grid_search.fit(X_train_scaled, y_train)\n",
        "\n",
        "# 最良モデルの評価\n",
        "print(\"Best Parameters:\", grid_search.best_params_)\n",
        "\n",
        "best_svm = grid_search.best_estimator_\n",
        "y_pred = best_svm.predict(X_test_scaled)\n",
        "print(\"Accuracy on Test Set:\", accuracy_score(y_test, y_pred))\n",
        "print(classification_report(y_test, y_pred))"
      ],
      "metadata": {
        "id": "IcPeaSbxobGB",
        "outputId": "55156122-b4df-4a12-c6eb-414f7221ed54",
        "colab": {
          "base_uri": "https://localhost:8080/"
        }
      },
      "execution_count": 6,
      "outputs": [
        {
          "output_type": "stream",
          "name": "stdout",
          "text": [
            "Fitting 5 folds for each of 15 candidates, totalling 75 fits\n",
            "Best Parameters: {'C': 10, 'gamma': 'scale'}\n",
            "Accuracy on Test Set: 0.93\n",
            "              precision    recall  f1-score   support\n",
            "\n",
            "           0       0.67      1.00      0.80         2\n",
            "           1       1.00      1.00      1.00         3\n",
            "           2       0.75      1.00      0.86         3\n",
            "           3       1.00      0.67      0.80         3\n",
            "           4       1.00      1.00      1.00         2\n",
            "           5       1.00      1.00      1.00         3\n",
            "           6       1.00      1.00      1.00         2\n",
            "           7       0.67      0.67      0.67         3\n",
            "           8       1.00      1.00      1.00         2\n",
            "           9       1.00      0.50      0.67         2\n",
            "          10       1.00      1.00      1.00         3\n",
            "          11       1.00      1.00      1.00         3\n",
            "          12       0.67      1.00      0.80         2\n",
            "          13       1.00      1.00      1.00         2\n",
            "          14       1.00      1.00      1.00         3\n",
            "          15       1.00      1.00      1.00         2\n",
            "          16       1.00      1.00      1.00         2\n",
            "          17       1.00      1.00      1.00         2\n",
            "          18       1.00      1.00      1.00         3\n",
            "          19       0.67      1.00      0.80         2\n",
            "          20       1.00      1.00      1.00         3\n",
            "          21       1.00      0.67      0.80         3\n",
            "          22       0.75      1.00      0.86         3\n",
            "          23       1.00      0.67      0.80         3\n",
            "          24       1.00      1.00      1.00         2\n",
            "          25       0.00      0.00      0.00         2\n",
            "          26       1.00      1.00      1.00         2\n",
            "          27       1.00      1.00      1.00         2\n",
            "          28       1.00      1.00      1.00         3\n",
            "          29       1.00      1.00      1.00         3\n",
            "          30       1.00      1.00      1.00         3\n",
            "          31       1.00      1.00      1.00         2\n",
            "          32       1.00      1.00      1.00         3\n",
            "          33       1.00      1.00      1.00         2\n",
            "          34       1.00      1.00      1.00         2\n",
            "          35       1.00      1.00      1.00         3\n",
            "          36       1.00      1.00      1.00         3\n",
            "          37       1.00      1.00      1.00         2\n",
            "          38       0.75      1.00      0.86         3\n",
            "          39       1.00      1.00      1.00         2\n",
            "\n",
            "    accuracy                           0.93       100\n",
            "   macro avg       0.92      0.93      0.92       100\n",
            "weighted avg       0.93      0.93      0.92       100\n",
            "\n"
          ]
        },
        {
          "output_type": "stream",
          "name": "stderr",
          "text": [
            "/usr/local/lib/python3.11/dist-packages/sklearn/metrics/_classification.py:1565: UndefinedMetricWarning: Precision is ill-defined and being set to 0.0 in labels with no predicted samples. Use `zero_division` parameter to control this behavior.\n",
            "  _warn_prf(average, modifier, f\"{metric.capitalize()} is\", len(result))\n",
            "/usr/local/lib/python3.11/dist-packages/sklearn/metrics/_classification.py:1565: UndefinedMetricWarning: Precision is ill-defined and being set to 0.0 in labels with no predicted samples. Use `zero_division` parameter to control this behavior.\n",
            "  _warn_prf(average, modifier, f\"{metric.capitalize()} is\", len(result))\n",
            "/usr/local/lib/python3.11/dist-packages/sklearn/metrics/_classification.py:1565: UndefinedMetricWarning: Precision is ill-defined and being set to 0.0 in labels with no predicted samples. Use `zero_division` parameter to control this behavior.\n",
            "  _warn_prf(average, modifier, f\"{metric.capitalize()} is\", len(result))\n"
          ]
        }
      ]
    },
    {
      "cell_type": "code",
      "source": [],
      "metadata": {
        "id": "JcN6VrLcobua"
      },
      "execution_count": null,
      "outputs": []
    }
  ]
}