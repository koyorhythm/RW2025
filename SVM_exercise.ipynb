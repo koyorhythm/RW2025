{
  "nbformat": 4,
  "nbformat_minor": 0,
  "metadata": {
    "colab": {
      "provenance": [],
      "authorship_tag": "ABX9TyMEpHskot0e4ddFRLWwbxD3",
      "include_colab_link": true
    },
    "kernelspec": {
      "name": "python3",
      "display_name": "Python 3"
    },
    "language_info": {
      "name": "python"
    }
  },
  "cells": [
    {
      "cell_type": "markdown",
      "metadata": {
        "id": "view-in-github",
        "colab_type": "text"
      },
      "source": [
        "<a href=\"https://colab.research.google.com/github/ymuto0302/RW2025/blob/main/SVM_exercise.ipynb\" target=\"_parent\"><img src=\"https://colab.research.google.com/assets/colab-badge.svg\" alt=\"Open In Colab\"/></a>"
      ]
    },
    {
      "cell_type": "markdown",
      "source": [
        "# SVMを用いたIris データセットの分類と可視化"
      ],
      "metadata": {
        "id": "NSWpNx0Rb_rq"
      }
    },
    {
      "cell_type": "markdown",
      "source": [
        "## 環境設定とデータ準備"
      ],
      "metadata": {
        "id": "E9Do1LGtcE5K"
      }
    },
    {
      "cell_type": "code",
      "execution_count": 6,
      "metadata": {
        "id": "qsFAH89kbgJQ"
      },
      "outputs": [],
      "source": [
        "import matplotlib.pyplot as plt\n",
        "from sklearn.datasets import load_iris, make_moons\n",
        "from sklearn.model_selection import train_test_split\n",
        "from sklearn.preprocessing import StandardScaler\n",
        "from sklearn.svm import SVC\n",
        "from sklearn.metrics import accuracy_score, confusion_matrix, classification_report\n",
        "from sklearn.model_selection import GridSearchCV\n",
        "\n",
        "# データセットの読み込みと前処理\n",
        "iris = load_iris()\n",
        "X, y = iris.data, iris.target\n",
        "\n",
        "# データ分割\n",
        "X_train, X_test, y_train, y_test = train_test_split(\n",
        "    X, y, test_size=0.25, random_state=42, stratify=y\n",
        ")\n",
        "\n",
        "# データの標準化\n",
        "scaler = StandardScaler()\n",
        "X_train_scaled = scaler.fit_transform(X_train)\n",
        "X_test_scaled = scaler.transform(X_test)"
      ]
    },
    {
      "cell_type": "markdown",
      "source": [
        "## SVMモデルの構築と評価"
      ],
      "metadata": {
        "id": "VXxbK0CicKq6"
      }
    },
    {
      "cell_type": "code",
      "source": [
        "def train_and_evaluate_svm(X_train, X_test, y_train, y_test, kernel, C=1.0, degree=3, gamma='scale'):\n",
        "    if kernel == 'poly':\n",
        "        svm = SVC(kernel=kernel, C=C, degree=degree, gamma=gamma)\n",
        "    else:\n",
        "        svm = SVC(kernel=kernel, C=C, gamma=gamma)\n",
        "    svm.fit(X_train, y_train)\n",
        "    y_pred = svm.predict(X_test)\n",
        "    accuracy = accuracy_score(y_test, y_pred)\n",
        "    print(f\"Kernel: {kernel}, Accuracy: {accuracy:.2f}\")\n",
        "    print(classification_report(y_test, y_pred))\n",
        "    return svm\n",
        "\n",
        "# 異なるカーネルでSVMを訓練・評価\n",
        "kernels = ['linear', 'poly', 'rbf']\n",
        "for kernel in kernels:\n",
        "    train_and_evaluate_svm(X_train_scaled, X_test_scaled, y_train, y_test, kernel)"
      ],
      "metadata": {
        "id": "xLHq_TBvcOKH"
      },
      "execution_count": null,
      "outputs": []
    },
    {
      "cell_type": "markdown",
      "source": [
        "## ハイパーパラメータCの影響分析"
      ],
      "metadata": {
        "id": "csMcDe_icTH4"
      }
    },
    {
      "cell_type": "code",
      "source": [
        "C_values = [0.001, 0.01, 0.1, 1, 10, 100]\n",
        "accuracies = []\n",
        "\n",
        "for C in C_values:\n",
        "    svm = SVC(kernel='rbf', C=C)\n",
        "    svm.fit(X_train_scaled, y_train)\n",
        "    y_pred = svm.predict(X_test_scaled)\n",
        "    score = accuracy_score(y_test, y_pred)\n",
        "    print(f\"C: {C}, Accuracy: {score:.2f}\")\n",
        "    accuracies.append(score) # この後の可視化のため，正解率をストック\n",
        "\n",
        "# 一応可視化\n",
        "plt.plot(C_values, accuracies)\n",
        "plt.xscale('log')\n",
        "plt.xlabel('C value')\n",
        "plt.ylabel('Accuracy')\n",
        "plt.title('SVM Performance vs C value (Iris dataset)')\n",
        "plt.show()"
      ],
      "metadata": {
        "id": "aqgs2Ed6cRFq"
      },
      "execution_count": null,
      "outputs": []
    },
    {
      "cell_type": "code",
      "source": [],
      "metadata": {
        "id": "w2Vp9CYdnsmZ"
      },
      "execution_count": null,
      "outputs": []
    }
  ]
}