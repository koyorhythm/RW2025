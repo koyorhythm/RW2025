{
  "nbformat": 4,
  "nbformat_minor": 0,
  "metadata": {
    "colab": {
      "provenance": [],
      "authorship_tag": "ABX9TyPrIH9Pe+DfPwmQiDI/aJQb",
      "include_colab_link": true
    },
    "kernelspec": {
      "name": "python3",
      "display_name": "Python 3"
    },
    "language_info": {
      "name": "python"
    }
  },
  "cells": [
    {
      "cell_type": "markdown",
      "metadata": {
        "id": "view-in-github",
        "colab_type": "text"
      },
      "source": [
        "<a href=\"https://colab.research.google.com/github/ymuto0302/RW2025/blob/main/intro_classification_penguins.ipynb\" target=\"_parent\"><img src=\"https://colab.research.google.com/assets/colab-badge.svg\" alt=\"Open In Colab\"/></a>"
      ]
    },
    {
      "cell_type": "markdown",
      "source": [
        "# Google Colab を利用して，分類問題のためのコードを書く\n",
        "\n",
        "## penguins dataset\n",
        "- データ数: 344\n",
        "- 特徴の種類: 7種類\n",
        "\n",
        "|変数名|説明|\n",
        "|---|---|\n",
        "|island | ペンギンが生息する島の名前('Torgersen', 'Biscoe', 'Dream')|\n",
        "|bill_length_mm | ペンギンのくちばしの長さ(mm)|\n",
        "|bill_depth_mm | ペンギンのくちばしの奥行き(mm)|\n",
        "|flipper_length_mm |\tペンギンのヒレの長さ(mm)|\n",
        "|body_mass_g\t| ペンギンの体重(g)|\n",
        "|sex\t| ペンギンの性別('Male', 'Female')|\n",
        "|species\t| ペンギンの種類('Adelie', 'Chinstrap', 'Gentoo')|\n",
        "\n"
      ],
      "metadata": {
        "id": "NJL-QZhBUmMV"
      }
    },
    {
      "cell_type": "markdown",
      "source": [
        "以下に，一通りの処理を一括で記述したコードを示す。"
      ],
      "metadata": {
        "id": "wh2n46D3WPhK"
      }
    },
    {
      "cell_type": "code",
      "execution_count": null,
      "metadata": {
        "id": "eGt4Fg0CMxiS"
      },
      "outputs": [],
      "source": [
        "import pandas as pd\n",
        "from sklearn.datasets import load_digits\n",
        "from sklearn.model_selection import train_test_split\n",
        "from sklearn.tree import DecisionTreeClassifier\n",
        "from sklearn.metrics import confusion_matrix\n",
        "from sklearn.metrics import accuracy_score\n",
        "import seaborn as sns\n",
        "\n",
        "\n",
        "# データセットを読み込み (Penguins dataset)\n",
        "df = sns.load_dataset(\"penguins\")\n",
        "\n",
        "# 欠損値の削除\n",
        "df = df.dropna()\n",
        "\n",
        "# カテゴリカル変数 (island, sex) の one-hot encoding\n",
        "df = pd.get_dummies(df, columns=['island', 'sex'])\n",
        "\n",
        "# 特徴とラベルへの分離\n",
        "X = df.drop('species', axis=1)\n",
        "y = df['species']\n",
        "\n",
        "# 学習データとテストデータを8:2で分割\n",
        "X_train, X_test, y_train, y_test = train_test_split(X, y, test_size=0.2, random_state=0)\n",
        "\n",
        "# モデルの定義\n",
        "model = DecisionTreeClassifier()\n",
        "\n",
        "# モデルの学習\n",
        "model.fit(X_train, y_train)\n",
        "\n",
        "# テストデータに対する予測値の計算\n",
        "y_pred = model.predict(X_test)\n",
        "\n",
        "# 評価指標の計算\n",
        "accuracy = accuracy_score(y_test, y_pred)\n",
        "print(\"Accuracy:\", accuracy)\n",
        "\n",
        "# モデルの性能の可視化\n",
        "labels = df['species'].unique()\n",
        "sns.heatmap(\n",
        "    pd.DataFrame(\n",
        "        confusion_matrix(y_test, y_pred),\n",
        "        columns=labels,\n",
        "        index=labels,\n",
        "    ),\n",
        "    annot=True, cmap=\"Blues\", fmt=\"d\", linewidths=0.7\n",
        "    )"
      ]
    },
    {
      "cell_type": "markdown",
      "source": [
        "<font color=\"red\">(注意) 上記のコードを実行したのち，下記のコードを改めて実行する場合，このタイミングでランタイムを再起動してください。</font>"
      ],
      "metadata": {
        "id": "-uxJ1ZM7T-NC"
      }
    },
    {
      "cell_type": "markdown",
      "source": [
        "---\n",
        "## step-by-step による解説\n",
        "上記は，コード全体をひとつのセルに押し込んだが，**Google Colabratory ではステップ・バイ・ステップで実行することが可能**である。\n",
        "試行錯誤しながらコードを書く場合，step by step で取り組むことをお勧めする。"
      ],
      "metadata": {
        "id": "SOjpIpIJOBxv"
      }
    },
    {
      "cell_type": "markdown",
      "source": [
        "### ライブラリのインポート\n",
        "処理に必要となるライブラリをインポートする。\n",
        "ここで用いるのは pandas, sciki-learn および seaborn である。"
      ],
      "metadata": {
        "id": "BEiYWr4UVcNT"
      }
    },
    {
      "cell_type": "code",
      "source": [
        "import pandas as pd\n",
        "from sklearn.datasets import load_digits\n",
        "from sklearn.model_selection import train_test_split\n",
        "from sklearn.tree import DecisionTreeClassifier\n",
        "from sklearn.metrics import confusion_matrix\n",
        "from sklearn.metrics import accuracy_score\n",
        "import seaborn as sns"
      ],
      "metadata": {
        "id": "4oZX4JVnM3Ni"
      },
      "execution_count": null,
      "outputs": []
    },
    {
      "cell_type": "markdown",
      "source": [
        "### データの読み込み & 概要のチェック"
      ],
      "metadata": {
        "id": "DrzYM1U9OkDE"
      }
    },
    {
      "cell_type": "code",
      "source": [
        "# データセットを読み込み (Penguins dataset)\n",
        "df = sns.load_dataset(\"penguins\")"
      ],
      "metadata": {
        "id": "3DaUNF-qOAjn"
      },
      "execution_count": null,
      "outputs": []
    },
    {
      "cell_type": "markdown",
      "source": [
        "データの冒頭を眺めてみる。\n",
        "DataFrame に対して head() メソッドを発行する。"
      ],
      "metadata": {
        "id": "s8AeaJAnPNhV"
      }
    },
    {
      "cell_type": "code",
      "source": [
        "df.head()"
      ],
      "metadata": {
        "id": "fJJGFSIeOq-I"
      },
      "execution_count": null,
      "outputs": []
    },
    {
      "cell_type": "markdown",
      "source": [
        "データ構造を確認する。これには，Pandas DataFrame の info() メソッドを用いる。\n",
        "- species (品種) は object 型であり，クラスラベルとなる。\n",
        "-bill_length_mm, bill_depth_mm などは実数 (float64)\n",
        "- island, sex はカテゴリカル変数 （object型)"
      ],
      "metadata": {
        "id": "k1_2paj6PjsV"
      }
    },
    {
      "cell_type": "code",
      "source": [
        "df.info()"
      ],
      "metadata": {
        "id": "w363IXQ8POXN"
      },
      "execution_count": null,
      "outputs": []
    },
    {
      "cell_type": "markdown",
      "source": [
        "### データに対する前処理\n",
        "以下では，欠損値の削除およびカテゴリカル変数の one-hot encoding を行う。"
      ],
      "metadata": {
        "id": "4mXzWQ9rQIOg"
      }
    },
    {
      "cell_type": "markdown",
      "source": [
        "欠損値の有無を確認する。\n",
        "いくつかの項目に欠損値が含まれる。"
      ],
      "metadata": {
        "id": "is5zbuRfS0OU"
      }
    },
    {
      "cell_type": "code",
      "source": [
        "# 欠損値の有無を確認\n",
        "df.isnull().sum()"
      ],
      "metadata": {
        "id": "N12zdS7YOvUr"
      },
      "execution_count": null,
      "outputs": []
    },
    {
      "cell_type": "markdown",
      "source": [
        "欠損値の削除を行う。"
      ],
      "metadata": {
        "id": "HdulaJa7QcW-"
      }
    },
    {
      "cell_type": "code",
      "source": [
        "# 欠損値の削除\n",
        "df = df.dropna()"
      ],
      "metadata": {
        "id": "nwy0sBAoQjTo"
      },
      "execution_count": null,
      "outputs": []
    },
    {
      "cell_type": "markdown",
      "source": [
        "カテゴリカル変数を pne-hot encoding し，数値化する。（厳密には真偽値だが，0 または 1 が割り当てられると考えてよい）"
      ],
      "metadata": {
        "id": "nQ0EvpPFR2DB"
      }
    },
    {
      "cell_type": "code",
      "source": [
        "# カテゴリカル変数 (island, sex) の one-hot encoding\n",
        "df = pd.get_dummies(df, columns=['island', 'sex'])\n",
        "df.head() # データの中身を確認"
      ],
      "metadata": {
        "id": "uH6SE6liQ1qI"
      },
      "execution_count": null,
      "outputs": []
    },
    {
      "cell_type": "markdown",
      "source": [
        "### 分類実験へ向けての準備"
      ],
      "metadata": {
        "id": "DoQ-OyiYSfNU"
      }
    },
    {
      "cell_type": "code",
      "source": [
        "# 特徴とラベルへの分離\n",
        "X = df.drop('species', axis=1)\n",
        "y = df['species']\n",
        "\n",
        "# 学習データとテストデータを8:2で分割\n",
        "X_train, X_test, y_train, y_test = train_test_split(X, y, test_size=0.2, random_state=0)"
      ],
      "metadata": {
        "id": "7_umnrJDTGHK"
      },
      "execution_count": null,
      "outputs": []
    },
    {
      "cell_type": "markdown",
      "source": [
        "学習データ，テストデータのサンプル数，次元数を確認する。\n",
        "- 学習データは 266個，テストデータは 67個\n",
        "- 特徴の次元数は 9次元"
      ],
      "metadata": {
        "id": "udKQM0vBTV15"
      }
    },
    {
      "cell_type": "code",
      "source": [
        "print(\"X_train: \", X_train.shape)\n",
        "print(\"X_test: \", X_test.shape)\n",
        "print(\"y_train: \", y_train.shape)\n",
        "print(\"y_test: \", y_test.shape)"
      ],
      "metadata": {
        "id": "4g7dl83dTNXV"
      },
      "execution_count": null,
      "outputs": []
    },
    {
      "cell_type": "markdown",
      "source": [
        "### モデルの定義と学習，評価"
      ],
      "metadata": {
        "id": "gNRZoqByTlVP"
      }
    },
    {
      "cell_type": "code",
      "source": [
        "# モデルの定義\n",
        "model = DecisionTreeClassifier()\n",
        "\n",
        "# モデルの学習\n",
        "model.fit(X_train, y_train)\n",
        "\n",
        "# テストデータに対する予測値の計算\n",
        "y_pred = model.predict(X_test)\n",
        "\n",
        "# 評価指標の計算\n",
        "accuracy = accuracy_score(y_test, y_pred)\n",
        "print(\"Accuracy:\", accuracy)"
      ],
      "metadata": {
        "id": "fPk29wL0Oi5x"
      },
      "execution_count": null,
      "outputs": []
    },
    {
      "cell_type": "markdown",
      "source": [
        "### モデルの性能の可視化\n",
        "以下では，ヒートマップを用いた可視化を行う。"
      ],
      "metadata": {
        "id": "suQrNXFrTy81"
      }
    },
    {
      "cell_type": "code",
      "source": [
        "# モデルの性能の可視化\n",
        "labels = df['species'].unique()\n",
        "sns.heatmap(\n",
        "    pd.DataFrame(\n",
        "        confusion_matrix(y_test, y_pred),\n",
        "        columns=labels,\n",
        "        index=labels,\n",
        "    ),\n",
        "    annot=True, cmap=\"Blues\", fmt=\"d\", linewidths=0.7\n",
        "    )"
      ],
      "metadata": {
        "id": "98uIrkv1TuqC"
      },
      "execution_count": null,
      "outputs": []
    }
  ]
}