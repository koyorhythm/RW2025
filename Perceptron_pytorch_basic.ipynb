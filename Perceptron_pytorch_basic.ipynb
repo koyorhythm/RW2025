{
  "nbformat": 4,
  "nbformat_minor": 0,
  "metadata": {
    "colab": {
      "provenance": [],
      "authorship_tag": "ABX9TyOTJZaCNISH/kexywpnL633",
      "include_colab_link": true
    },
    "kernelspec": {
      "name": "python3",
      "display_name": "Python 3"
    },
    "language_info": {
      "name": "python"
    }
  },
  "cells": [
    {
      "cell_type": "markdown",
      "metadata": {
        "id": "view-in-github",
        "colab_type": "text"
      },
      "source": [
        "<a href=\"https://colab.research.google.com/github/ymuto0302/RW2025/blob/main/Perceptron_pytorch_basic.ipynb\" target=\"_parent\"><img src=\"https://colab.research.google.com/assets/colab-badge.svg\" alt=\"Open In Colab\"/></a>"
      ]
    },
    {
      "cell_type": "markdown",
      "source": [
        "# PyTorch を用いたパーセプトロンの実装"
      ],
      "metadata": {
        "id": "CiPpc70I4sxZ"
      }
    },
    {
      "cell_type": "markdown",
      "source": [
        "## ライブラリのインポート\n",
        "PyTorch を利用する場合，`torch`，ネットワーク定義と損失関数定義に用いる `torch.nn`, 最適化アルゴリズムを定義する `torch.optim` をインポートする。"
      ],
      "metadata": {
        "id": "7BpJ-DU64yy3"
      }
    },
    {
      "cell_type": "code",
      "source": [
        "import torch\n",
        "import torch.nn as nn\n",
        "import torch.optim as optim\n",
        "import numpy as np\n",
        "import matplotlib.pyplot as plt\n",
        "from sklearn.datasets import make_blobs\n",
        "from sklearn.preprocessing import StandardScaler"
      ],
      "metadata": {
        "id": "REi4ZZaW-dkQ"
      },
      "execution_count": null,
      "outputs": []
    },
    {
      "cell_type": "markdown",
      "source": [
        "## モデルの定義\n",
        "パーセプトロンは１層のみの MLP とみなせるから，モデルは `Linear()` のみで構成される。"
      ],
      "metadata": {
        "id": "HfEa9SyK49jq"
      }
    },
    {
      "cell_type": "code",
      "source": [
        "#  多クラス分類用単層パーセプトロン\n",
        "class MultiClassPerceptron(nn.Module):\n",
        "    def __init__(self, input_size, num_classes):\n",
        "        super(MultiClassPerceptron, self).__init__()\n",
        "        self.linear = nn.Linear(input_size, num_classes)\n",
        "\n",
        "    def forward(self, x):\n",
        "        return self.linear(x)\n",
        "\n",
        "    def predict(self, x):\n",
        "        \"\"\"予測クラスを返す\"\"\"\n",
        "        with torch.no_grad():\n",
        "            output = self.forward(x)\n",
        "            _, predicted = torch.max(output, 1)\n",
        "            return predicted"
      ],
      "metadata": {
        "id": "yxCXWMPw-k5w"
      },
      "execution_count": null,
      "outputs": []
    },
    {
      "cell_type": "markdown",
      "source": [
        "## モデルの学習"
      ],
      "metadata": {
        "id": "jLI3CeR85KKi"
      }
    },
    {
      "cell_type": "code",
      "source": [
        "# モデルを学習するための関数\n",
        "def train_perceptron(model, X_train, y_train, X_test, y_test, epochs=1000, lr=0.01):\n",
        "    \"\"\"パーセプトロンの学習\"\"\"\n",
        "\n",
        "    # 損失関数とオプティマイザー\n",
        "    criterion = nn.CrossEntropyLoss()\n",
        "    optimizer = optim.SGD(model.parameters(), lr=lr)\n",
        "\n",
        "    # 損失・正解率の履歴を格納するためのリスト\n",
        "    train_losses = []\n",
        "    train_accuracies = []\n",
        "    test_accuracies = []\n",
        "\n",
        "    for epoch in range(epochs):\n",
        "        # 勾配降下法による学習\n",
        "        model.train() # モデルを学習モードに設定\n",
        "\n",
        "         # 勾配の初期化\n",
        "        optimizer.zero_grad()\n",
        "\n",
        "        # 順伝搬\n",
        "        outputs = model(X_train)\n",
        "        loss = criterion(outputs, y_train.long())\n",
        "\n",
        "        # 逆伝搬\n",
        "        loss.backward()\n",
        "        optimizer.step()\n",
        "\n",
        "        # エポックごとの損失を記録\n",
        "        train_losses.append(loss.item())\n",
        "\n",
        "        with torch.no_grad():\n",
        "            # 訓練データでの精度評価\n",
        "            _, predicted = torch.max(outputs, 1)\n",
        "            train_accuracy = (predicted == y_train.long()).float().mean().item()\n",
        "            train_accuracies.append(train_accuracy)\n",
        "\n",
        "            # テストデータでの精度評価\n",
        "            model.eval() # モデルを評価モードに設定\n",
        "            test_outputs = model(X_test)\n",
        "            _, test_predicted = torch.max(test_outputs, 1)\n",
        "            test_accuracy = (test_predicted == y_test.long()).float().mean().item()\n",
        "            test_accuracies.append(test_accuracy)\n",
        "\n",
        "        # 進捗表示\n",
        "        if (epoch + 1) % 100 == 0:\n",
        "            print(f'Epoch [{epoch+1}/{epochs}], Loss: {loss.item():.4f}, Train Acc: {train_accuracy:.4f}, Test Acc: {test_accuracy:.4f}')\n",
        "\n",
        "    return train_losses, train_accuracies, test_accuracies"
      ],
      "metadata": {
        "id": "G6lUL12I-ud2"
      },
      "execution_count": null,
      "outputs": []
    },
    {
      "cell_type": "markdown",
      "source": [
        "## メイン関数"
      ],
      "metadata": {
        "id": "G_V8mpKb-94v"
      }
    },
    {
      "cell_type": "code",
      "source": [
        "# メイン実行部分\n",
        "if __name__ == \"__main__\":\n",
        "    # デバイス設定\n",
        "    # GPU が利用可能場合，GPU を利用する\n",
        "    device = torch.device('cuda' if torch.cuda.is_available() else 'cpu')\n",
        "    print(f\"使用デバイス: {device}\")\n",
        "\n",
        "    # 3クラス，２次元のデータを生成する\n",
        "    # 線形分離できないよう，cluster_std を大きめにとる\n",
        "    print(\"\\nデータ，作るよ !!!\")\n",
        "    X, y = make_blobs(n_samples=500, centers=3, n_features=2,\n",
        "                                  cluster_std=4.0, random_state=42)\n",
        "\n",
        "    # 標準化\n",
        "    scaler = StandardScaler()\n",
        "    X_std = scaler.fit_transform(X)\n",
        "\n",
        "    # 訓練・テスト用へのデータ分割\n",
        "    # 訓練用・テスト用それぞれのサンプル番号リストを生成した後，データ分割を行う\n",
        "    n_train = int(len(X_std) * 0.7)\n",
        "    indices = np.random.permutation(len(X_std))\n",
        "    train_indices = indices[:n_train]\n",
        "    test_indices = indices[n_train:]\n",
        "\n",
        "    X_train = X_std[train_indices]\n",
        "    y_train = y[train_indices]\n",
        "    X_test = X_std[test_indices]\n",
        "    y_test = y[test_indices]\n",
        "\n",
        "    # テンソル化\n",
        "    X_train_tensor = torch.FloatTensor(X_train).to(device)\n",
        "    y_train_tensor = torch.LongTensor(y_train).to(device)\n",
        "    X_test_tensor = torch.FloatTensor(X_test).to(device)\n",
        "    y_test_tensor = torch.LongTensor(y_test).to(device)\n",
        "\n",
        "    print(f\"訓練データ: {X_train.shape}, テストデータ: {X_test.shape}\")\n",
        "\n",
        "    # モデルのインスタンス化\n",
        "    model = MultiClassPerceptron(input_size=2, num_classes=3).to(device)\n",
        "\n",
        "    # モデルの学習と予測\n",
        "    print(\"\\n学習，始めるよ !!!\")\n",
        "    train_loss_history, train_acc_history, test_acc_history = train_perceptron(\n",
        "        model, X_train_tensor, y_train_tensor.float(),\n",
        "        X_test_tensor, y_test_tensor.float(),\n",
        "        epochs=500, lr=0.01\n",
        "    )\n",
        "\n",
        "    print(\"\\n最終結果:\")\n",
        "    print(f\"訓練データに対する正解率: {train_acc_history[-1]:.4f}\")\n",
        "    print(f\"テストデータに対する正解率: {test_acc_history[-1]:.4f}\")\n"
      ],
      "metadata": {
        "colab": {
          "base_uri": "https://localhost:8080/"
        },
        "id": "2I0xoGma-8UP",
        "outputId": "4fc3b828-825a-42a0-cd54-f959d6662f18"
      },
      "execution_count": null,
      "outputs": [
        {
          "output_type": "stream",
          "name": "stdout",
          "text": [
            "使用デバイス: cpu\n",
            "\n",
            "データ，作るよ !!!\n",
            "訓練データ: (350, 2), テストデータ: (150, 2)\n",
            "\n",
            "学習，始めるよ !!!\n",
            "Epoch [100/500], Loss: 1.3243, Train Acc: 0.1657, Test Acc: 0.1333\n",
            "Epoch [200/500], Loss: 0.8875, Train Acc: 0.6229, Test Acc: 0.5867\n",
            "Epoch [300/500], Loss: 0.6754, Train Acc: 0.8629, Test Acc: 0.8667\n",
            "Epoch [400/500], Loss: 0.5640, Train Acc: 0.8943, Test Acc: 0.8867\n",
            "Epoch [500/500], Loss: 0.4970, Train Acc: 0.9000, Test Acc: 0.8867\n",
            "\n",
            "最終結果:\n",
            "訓練データに対する正解率: 0.9000\n",
            "テストデータに対する正解率: 0.8867\n"
          ]
        }
      ]
    },
    {
      "cell_type": "markdown",
      "source": [
        "## 学習履歴の可視化"
      ],
      "metadata": {
        "id": "Xai7vBZaCVLx"
      }
    },
    {
      "cell_type": "code",
      "source": [
        "# 学習履歴の可視化\n",
        "def plot_training_history(train_losses, train_accuracies, test_accuracies=None):\n",
        "    \"\"\"学習履歴をプロット\"\"\"\n",
        "    fig, (ax1, ax2) = plt.subplots(1, 2, figsize=(12, 4))\n",
        "\n",
        "    ax1.plot(train_losses, label='Train Loss')\n",
        "    ax1.set_title('Training Loss')\n",
        "    ax1.set_xlabel('Epoch')\n",
        "    ax1.set_ylabel('Loss')\n",
        "    ax1.grid(True)\n",
        "\n",
        "    ### ax2.plot(train_accuracies, label='Train Accuracy', marker='o', markersize=3)\n",
        "    ax2.plot(train_accuracies, label='Train Accuracy')\n",
        "    if test_accuracies and len(test_accuracies) > 0:\n",
        "        ### ax2.plot(test_accuracies, label='Test Accuracy', marker='s', markersize=3)\n",
        "        ax2.plot(test_accuracies, label='Test Accuracy')\n",
        "    ax2.set_title('Training Accuracy')\n",
        "    ax2.set_xlabel('Epoch')\n",
        "    ax2.set_ylabel('Accuracy')\n",
        "    ax2.legend()\n",
        "    ax2.grid(True)\n",
        "\n",
        "    plt.tight_layout()\n",
        "    plt.show()\n",
        "\n",
        "# 学習履歴の可視化\n",
        "print(\"\\n=== 学習履歴 ===\")\n",
        "plot_training_history(train_loss_history, train_acc_history, test_acc_history)"
      ],
      "metadata": {
        "colab": {
          "base_uri": "https://localhost:8080/",
          "height": 372
        },
        "id": "78S-999j8JaD",
        "outputId": "0d209d8f-34af-427b-ebf8-ed7372fedec5"
      },
      "execution_count": null,
      "outputs": [
        {
          "output_type": "stream",
          "name": "stdout",
          "text": [
            "\n",
            "=== 学習履歴 ===\n"
          ]
        },
        {
          "output_type": "display_data",
          "data": {
            "text/plain": [
              "<Figure size 1200x400 with 2 Axes>"
            ],
            "image/png": "[encoded data removed]"
          },
          "metadata": {}
        }
      ]
    },
    {
      "cell_type": "markdown",
      "source": [
        "## (参考) 決定境界の可視化"
      ],
      "metadata": {
        "id": "XMks_WIJNqDu"
      }
    },
    {
      "cell_type": "code",
      "source": [
        "# 決定境界の可視化\n",
        "def plot_decision_boundary(model, X, y, title=\"Decision Boundary\", device='cpu'):\n",
        "    \"\"\"決定境界を可視化（2次元データのみ）\"\"\"\n",
        "    if X.shape[1] != 2:\n",
        "        print(\"可視化は2次元データのみサポートしています\")\n",
        "        return\n",
        "\n",
        "    plt.figure(figsize=(5, 4))\n",
        "\n",
        "    # データ範囲の設定\n",
        "    h = 0.01\n",
        "    x_min, x_max = X[:, 0].min() - 1, X[:, 0].max() + 1\n",
        "    y_min, y_max = X[:, 1].min() - 1, X[:, 1].max() + 1\n",
        "    xx, yy = np.meshgrid(np.arange(x_min, x_max, h),\n",
        "                         np.arange(y_min, y_max, h))\n",
        "\n",
        "    # 予測\n",
        "    model.eval()\n",
        "    with torch.no_grad():\n",
        "        mesh_points = torch.FloatTensor(np.c_[xx.ravel(), yy.ravel()]).to(device)\n",
        "\n",
        "        Z = model.predict(mesh_points)\n",
        "        Z = Z.cpu().numpy().reshape(xx.shape)\n",
        "\n",
        "    # 等高線プロット\n",
        "    plt.contourf(xx, yy, Z, alpha=0.8, cmap=plt.cm.RdYlBu)\n",
        "\n",
        "    # データポイントのプロット\n",
        "    scatter = plt.scatter(X[:, 0].cpu(), X[:, 1].cpu(), c=y.cpu(),\n",
        "                         cmap=plt.cm.RdYlBu, edgecolors='black')\n",
        "    plt.colorbar(scatter)\n",
        "    plt.title(title)\n",
        "    plt.xlabel('Feature 1')\n",
        "    plt.ylabel('Feature 2')\n",
        "    plt.show()\n",
        "\n",
        "# 可視化\n",
        "\n",
        "# 決定境界の可視化\n",
        "plot_decision_boundary(model, X_train_tensor, y_train_tensor.float(),\n",
        "                        \"Multi-class Classification - Train Data\", device=device)"
      ],
      "metadata": {
        "id": "ulKwMNC38KPh"
      },
      "execution_count": null,
      "outputs": []
    }
  ]
}