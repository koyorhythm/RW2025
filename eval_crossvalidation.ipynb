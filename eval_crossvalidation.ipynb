{
  "nbformat": 4,
  "nbformat_minor": 0,
  "metadata": {
    "colab": {
      "provenance": [],
      "authorship_tag": "ABX9TyPnyd9Z82+XV4nf1yGHwxH5",
      "include_colab_link": true
    },
    "kernelspec": {
      "name": "python3",
      "display_name": "Python 3"
    },
    "language_info": {
      "name": "python"
    }
  },
  "cells": [
    {
      "cell_type": "markdown",
      "metadata": {
        "id": "view-in-github",
        "colab_type": "text"
      },
      "source": [
        "<a href=\"https://colab.research.google.com/github/ymuto0302/RW2025/blob/main/eval_crossvalidation.ipynb\" target=\"_parent\"><img src=\"https://colab.research.google.com/assets/colab-badge.svg\" alt=\"Open In Colab\"/></a>"
      ]
    },
    {
      "cell_type": "code",
      "source": [
        "from sklearn.datasets import load_iris\n",
        "from sklearn.tree import DecisionTreeClassifier\n",
        "from sklearn.model_selection import StratifiedKFold, cross_val_score\n",
        "\n",
        "# データの読み込み\n",
        "iris = load_iris()\n",
        "\n",
        "# 特徴量とラベルの分離\n",
        "X, y = iris.data, iris.target\n",
        "\n",
        "# 決定木\n",
        "classifier = DecisionTreeClassifier(max_depth=3)\n",
        "\n",
        "# 5-Fold Cross-Validationを実行\n",
        "# パラメータ n_splits: 分割数（ここでは5分割）\n",
        "# パラメータ scoring: 評価指標（ここではaccuracyを使用）\n",
        "cv = StratifiedKFold(n_splits=5, shuffle=True, random_state=42)\n",
        "cross_val_results = cross_val_score(classifier, X, y, cv=cv,\n",
        "                                    scoring='accuracy')\n",
        "\n",
        "# (参考)各分割における正解率\n",
        "print(\"Cross-Validation: accuracy on each split\", cross_val_results)\n",
        "\n",
        "# 交差検証の結果を表示\n",
        "print(\"Cross-Validation Accuracy: %0.2f (+/- %0.2f)\" % (cross_val_results.mean(), cross_val_results.std() * 2))"
      ],
      "metadata": {
        "colab": {
          "base_uri": "https://localhost:8080/"
        },
        "id": "q7GoxA9_I3ki",
        "outputId": "5fb075a7-198b-430f-dd5b-4c6ba49d8470"
      },
      "execution_count": 2,
      "outputs": [
        {
          "output_type": "stream",
          "name": "stdout",
          "text": [
            "Cross-Validation: accuracy on each split [0.96666667 0.96666667 0.93333333 1.         0.93333333]\n",
            "Cross-Validation Accuracy: 0.96 (+/- 0.05)\n"
          ]
        }
      ]
    },
    {
      "cell_type": "code",
      "source": [],
      "metadata": {
        "id": "lxTQzhXwStdm"
      },
      "execution_count": null,
      "outputs": []
    }
  ]
}