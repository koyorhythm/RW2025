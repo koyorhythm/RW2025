{
  "nbformat": 4,
  "nbformat_minor": 0,
  "metadata": {
    "colab": {
      "provenance": [],
      "authorship_tag": "ABX9TyP3I+AEw8BQQUHnV9cqtKXS",
      "include_colab_link": true
    },
    "kernelspec": {
      "name": "python3",
      "display_name": "Python 3"
    },
    "language_info": {
      "name": "python"
    }
  },
  "cells": [
    {
      "cell_type": "markdown",
      "metadata": {
        "id": "view-in-github",
        "colab_type": "text"
      },
      "source": [
        "<a href=\"https://colab.research.google.com/github/ymuto0302/RW2025/blob/main/MLP_pytorch_basic.ipynb\" target=\"_parent\"><img src=\"https://colab.research.google.com/assets/colab-badge.svg\" alt=\"Open In Colab\"/></a>"
      ]
    },
    {
      "cell_type": "markdown",
      "source": [
        "# PyTorch を用いた MLP の実装\n",
        "(注) PyTorch におけるモデル定義に注目してほしいため，Dataset と Dataloader を使用しない設計としている。"
      ],
      "metadata": {
        "id": "fNelYAEfwJSa"
      }
    },
    {
      "cell_type": "markdown",
      "source": [
        "## ライブラリのインポート\n",
        "PyTorch を利用する場合，`torch`，ネットワーク定義と損失関数定義に用いる `torch.nn`, 最適化アルゴリズムを定義する `torch.optim` をインポートする。"
      ],
      "metadata": {
        "id": "KB-32XYXmaEt"
      }
    },
    {
      "cell_type": "code",
      "source": [
        "import torch\n",
        "import torch.nn as nn\n",
        "import torch.optim as optim\n",
        "import numpy as np\n",
        "import matplotlib.pyplot as plt\n",
        "from sklearn.datasets import load_digits\n",
        "from sklearn.preprocessing import StandardScaler"
      ],
      "metadata": {
        "id": "J9Zm9wg4id4f"
      },
      "execution_count": null,
      "outputs": []
    },
    {
      "cell_type": "markdown",
      "source": [
        "## データ生成\n",
        "PyTorch ではモデルに与えるデータ形式がテンソルであるため，その変換部を実装した。\n",
        "\n",
        "（注意) MLP ではデータの標準化が推奨されている。本来ならば，訓練データで学習した scaler をテストデータへ適用すべきだが，（ちょっと手を抜いて）訓練・テストへの分割前に標準化を行っている。"
      ],
      "metadata": {
        "id": "T5c-3YNXmoKN"
      }
    },
    {
      "cell_type": "code",
      "source": [
        "# データの準備: 手書き数字データセット MNIST を用いる\n",
        "def prepare_data(device='cpu'):\n",
        "    # 手書き数字データセットの読み込み\n",
        "    digits = load_digits()\n",
        "    X, y = digits.data, digits.target\n",
        "\n",
        "    # データの標準化\n",
        "    scaler = StandardScaler()\n",
        "    X = scaler.fit_transform(X)\n",
        "\n",
        "    # NumPy配列をPyTorchテンソルに変換\n",
        "    X_tensor = torch.FloatTensor(X).to(device)\n",
        "    y_tensor = torch.LongTensor(y).to(device)\n",
        "\n",
        "    # 訓練用とテスト用に分割\n",
        "    n_train = int(0.8 * len(X)) # 訓練データのサイズ\n",
        "    X_train = X_tensor[:n_train]\n",
        "    y_train = y_tensor[:n_train]\n",
        "    X_test = X_tensor[n_train:]\n",
        "    y_test = y_tensor[n_train:]\n",
        "\n",
        "    return X_train, y_train, X_test, y_test"
      ],
      "metadata": {
        "id": "tDvmVcyVidvP"
      },
      "execution_count": null,
      "outputs": []
    },
    {
      "cell_type": "markdown",
      "source": [
        "## モデルの定義"
      ],
      "metadata": {
        "id": "kFUyLaP0mvLp"
      }
    },
    {
      "cell_type": "code",
      "source": [
        "# MLPモデルの定義\n",
        "class MLP(nn.Module):\n",
        "    def __init__(self, input_size, output_size):\n",
        "        super(MLP, self).__init__()\n",
        "\n",
        "        self.network = nn.Sequential(\n",
        "            nn.Linear(input_size, 32),\n",
        "            nn.ReLU(),\n",
        "            nn.Linear(32,  16),\n",
        "            nn.ReLU(),\n",
        "            nn.Linear(16, output_size))\n",
        "\n",
        "    def forward(self, x):\n",
        "        return self.network(x)"
      ],
      "metadata": {
        "id": "2zj6N0l1m_QI"
      },
      "execution_count": null,
      "outputs": []
    },
    {
      "cell_type": "markdown",
      "source": [
        "## モデルの学習"
      ],
      "metadata": {
        "id": "JAWEfPzLrp3N"
      }
    },
    {
      "cell_type": "code",
      "source": [
        "# モデルを学習するための関数\n",
        "def train_model(model, X_train, y_train, X_test, y_test, epochs=100, batch_size=32):\n",
        "    # 損失関数とオプティマイザー\n",
        "    criterion = nn.CrossEntropyLoss()\n",
        "    optimizer = optim.Adam(model.parameters(), lr=0.0001)\n",
        "\n",
        "    # 学習履歴を保存\n",
        "    train_losses = []\n",
        "    test_accuracies = []\n",
        "\n",
        "    # データサイズとバッチ数\n",
        "    n_samples = len(X_train) # 訓練サンプル数\n",
        "    n_batches = (n_samples + batch_size - 1) // batch_size\n",
        "\n",
        "    for epoch in range(epochs):\n",
        "        model.train()\n",
        "        epoch_loss = 0.0\n",
        "\n",
        "        # ミニバッチ学習      （注)手動でバッチを作成する\n",
        "        for i in range(n_batches):\n",
        "            start_idx = i * batch_size\n",
        "            end_idx = min((i + 1) * batch_size, n_samples)\n",
        "\n",
        "            # バッチデータの取得\n",
        "            batch_X = X_train[start_idx:end_idx]\n",
        "            batch_y = y_train[start_idx:end_idx]\n",
        "\n",
        "            # 勾配の初期化\n",
        "            optimizer.zero_grad()\n",
        "\n",
        "            # 順伝播\n",
        "            outputs = model(batch_X)\n",
        "            loss = criterion(outputs, batch_y)\n",
        "\n",
        "            # 逆伝播\n",
        "            loss.backward()\n",
        "            optimizer.step()\n",
        "\n",
        "            # 損失の累積\n",
        "            epoch_loss += loss.item()\n",
        "\n",
        "        # エポックごとの平均損失を記録\n",
        "        avg_loss = epoch_loss / n_batches\n",
        "        train_losses.append(avg_loss)\n",
        "\n",
        "        # テストデータでの精度評価\n",
        "        model.eval()\n",
        "        with torch.no_grad():\n",
        "            # 予測\n",
        "            test_outputs = model(X_test)\n",
        "            # 確率最大のクラスを取り出す\n",
        "            _, predicted = torch.max(test_outputs.data, 1)\n",
        "            # 正解率を求める\n",
        "            accuracy = (predicted == y_test).float().mean().item()\n",
        "            # 正解率の累積\n",
        "            test_accuracies.append(accuracy)\n",
        "\n",
        "        # 進捗表示\n",
        "        if (epoch + 1) % 20 == 0:\n",
        "            print(f'Epoch [{epoch+1}/{epochs}], Loss: {avg_loss:.4f}, Test Accuracy: {accuracy:.4f}')\n",
        "\n",
        "    return train_losses, test_accuracies"
      ],
      "metadata": {
        "id": "Mp_Ahn1Jrj0n"
      },
      "execution_count": null,
      "outputs": []
    },
    {
      "cell_type": "markdown",
      "source": [
        "## メイン関数"
      ],
      "metadata": {
        "id": "1ZnCEapNrw8R"
      }
    },
    {
      "cell_type": "code",
      "execution_count": null,
      "metadata": {
        "colab": {
          "base_uri": "https://localhost:8080/"
        },
        "id": "GzKm6xqufoqj",
        "outputId": "8ac94386-eab6-43e8-8ba1-d107cd20e9c7"
      },
      "outputs": [
        {
          "output_type": "stream",
          "name": "stdout",
          "text": [
            "使用デバイス: cpu\n",
            "データを準備中...\n",
            "訓練データ: torch.Size([1437, 64]), テストデータ: torch.Size([360, 64])\n",
            "\n",
            "モデル構造:\n",
            "MLP(\n",
            "  (network): Sequential(\n",
            "    (0): Linear(in_features=64, out_features=32, bias=True)\n",
            "    (1): ReLU()\n",
            "    (2): Linear(in_features=32, out_features=16, bias=True)\n",
            "    (3): ReLU()\n",
            "    (4): Linear(in_features=16, out_features=10, bias=True)\n",
            "  )\n",
            ")\n",
            "\n",
            "モデルを学習中...\n",
            "Epoch [20/200], Loss: 1.2292, Test Accuracy: 0.7111\n",
            "Epoch [40/200], Loss: 0.5028, Test Accuracy: 0.8056\n",
            "Epoch [60/200], Loss: 0.2500, Test Accuracy: 0.8528\n",
            "Epoch [80/200], Loss: 0.1470, Test Accuracy: 0.8667\n",
            "Epoch [100/200], Loss: 0.0967, Test Accuracy: 0.8806\n",
            "Epoch [120/200], Loss: 0.0680, Test Accuracy: 0.8861\n",
            "Epoch [140/200], Loss: 0.0496, Test Accuracy: 0.8833\n",
            "Epoch [160/200], Loss: 0.0368, Test Accuracy: 0.8833\n",
            "Epoch [180/200], Loss: 0.0274, Test Accuracy: 0.8889\n",
            "Epoch [200/200], Loss: 0.0204, Test Accuracy: 0.8972\n",
            "\n",
            "最終結果:\n",
            "訓練データに対する正解率: 0.9986\n",
            "テストデータに対する正解率: 0.8972\n"
          ]
        }
      ],
      "source": [
        "# メイン実行部分\n",
        "if __name__ == \"__main__\":\n",
        "    # デバイス設定\n",
        "    # GPU が利用可能場合，GPU を利用する\n",
        "    device = torch.device('cuda' if torch.cuda.is_available() else 'cpu')\n",
        "    print(f\"使用デバイス: {device}\")\n",
        "\n",
        "    # データの準備\n",
        "    print(\"データを準備中...\")\n",
        "    X_train, y_train, X_test, y_test = prepare_data(device)\n",
        "    print(f\"訓練データ: {X_train.shape}, テストデータ: {X_test.shape}\")\n",
        "\n",
        "    # モデルの作成\n",
        "    input_size = X_train.shape[1]  # 特徴量数\n",
        "    output_size = 10                # クラス数\n",
        "\n",
        "    model = MLP(input_size, output_size)\n",
        "    model = model.to(device)\n",
        "    print(f\"\\nモデル構造:\\n{model}\")\n",
        "\n",
        "    # モデルの学習\n",
        "    print(\"\\nモデルを学習中...\")\n",
        "    train_losses, test_accuracies = train_model(\n",
        "        model, X_train, y_train, X_test, y_test,\n",
        "        epochs=200, batch_size=32\n",
        "    )\n",
        "\n",
        "    # 最終的な性能評価\n",
        "    model.eval()\n",
        "    with torch.no_grad():\n",
        "        # 訓練データでの性能\n",
        "        train_outputs = model(X_train)\n",
        "        _, train_predicted = torch.max(train_outputs.data, 1)\n",
        "        train_accuracy = (train_predicted == y_train).float().mean().item()\n",
        "\n",
        "        # テストデータでの性能\n",
        "        test_outputs = model(X_test)\n",
        "        _, test_predicted = torch.max(test_outputs.data, 1)\n",
        "        test_accuracy = (test_predicted == y_test).float().mean().item()\n",
        "\n",
        "    print(f\"\\n最終結果:\")\n",
        "    print(f\"訓練データに対する正解率: {train_accuracy:.4f}\")\n",
        "    print(f\"テストデータに対する正解率: {test_accuracy:.4f}\")"
      ]
    },
    {
      "cell_type": "markdown",
      "source": [
        "## 学習履歴の可視化"
      ],
      "metadata": {
        "id": "kzJrMZZImVnO"
      }
    },
    {
      "cell_type": "code",
      "source": [
        "# 可視化関数\n",
        "def plot_training_history(train_losses, test_accuracies):\n",
        "    fig, (ax1, ax2) = plt.subplots(1, 2, figsize=(12, 4))\n",
        "\n",
        "    # 損失の推移\n",
        "    ax1.plot(train_losses)\n",
        "    ax1.set_title('Training Loss')\n",
        "    ax1.set_xlabel('Epoch')\n",
        "    ax1.set_ylabel('Loss')\n",
        "    ax1.grid(True)\n",
        "\n",
        "    # テスト精度の推移\n",
        "    ax2.plot(test_accuracies)\n",
        "    ax2.set_title('Test Accuracy')\n",
        "    ax2.set_xlabel('Epoch')\n",
        "    ax2.set_ylabel('Accuracy')\n",
        "    ax2.grid(True)\n",
        "\n",
        "    plt.tight_layout()\n",
        "    plt.show()\n",
        "\n",
        "# 学習履歴の可視化\n",
        "plot_training_history(train_losses, test_accuracies)"
      ],
      "metadata": {
        "colab": {
          "base_uri": "https://localhost:8080/",
          "height": 331
        },
        "id": "AaZbjpSGfp30",
        "outputId": "42033224-2d0c-4fac-c710-9e0b60ce673d"
      },
      "execution_count": null,
      "outputs": [
        {
          "output_type": "display_data",
          "data": {
            "text/plain": [
              "<Figure size 1200x400 with 2 Axes>"
            ],
            "image/png": "[encoded data removed]"
          },
          "metadata": {}
        }
      ]
    },
    {
      "cell_type": "code",
      "source": [],
      "metadata": {
        "id": "fyNAr87CmR3b"
      },
      "execution_count": null,
      "outputs": []
    }
  ]
}