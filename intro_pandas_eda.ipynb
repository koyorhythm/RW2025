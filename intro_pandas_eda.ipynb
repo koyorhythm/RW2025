{
  "nbformat": 4,
  "nbformat_minor": 0,
  "metadata": {
    "colab": {
      "provenance": [],
      "authorship_tag": "ABX9TyOLlYXxncbxDKb2adHu5/h9",
      "include_colab_link": true
    },
    "kernelspec": {
      "name": "python3",
      "display_name": "Python 3"
    },
    "language_info": {
      "name": "python"
    }
  },
  "cells": [
    {
      "cell_type": "markdown",
      "metadata": {
        "id": "view-in-github",
        "colab_type": "text"
      },
      "source": [
        "<a href=\"https://colab.research.google.com/github/ymuto0302/RW2025/blob/main/intro_pandas_eda.ipynb\" target=\"_parent\"><img src=\"https://colab.research.google.com/assets/colab-badge.svg\" alt=\"Open In Colab\"/></a>"
      ]
    },
    {
      "cell_type": "markdown",
      "source": [
        "# Pandasを用いた探索的データ解析の例"
      ],
      "metadata": {
        "id": "Qu7xH1b5oCHb"
      }
    },
    {
      "cell_type": "code",
      "source": [
        "# データ可視化において日本語を表示したいため，japanize_matplotlib をインストール\n",
        "!pip install japanize_matplotlib"
      ],
      "metadata": {
        "id": "3sAQQGmvhqat"
      },
      "execution_count": null,
      "outputs": []
    },
    {
      "cell_type": "markdown",
      "source": [
        "### パッケージのインポート"
      ],
      "metadata": {
        "id": "ORHGbJ7-h7Xf"
      }
    },
    {
      "cell_type": "code",
      "source": [
        "import pandas as pd\n",
        "import numpy as np\n",
        "import matplotlib.pyplot as plt\n",
        "import japanize_matplotlib\n",
        "from datetime import datetime, timedelta"
      ],
      "metadata": {
        "id": "8Larpsw8iA8z"
      },
      "execution_count": 2,
      "outputs": []
    },
    {
      "cell_type": "markdown",
      "source": [
        "### データの読み込み\n",
        "一般的にデータはファイルから，またはデータベースから読み込まれるが，ここでは Python コードを用いてダミーデータを作成する。"
      ],
      "metadata": {
        "id": "cXYcp7N0iFMH"
      }
    },
    {
      "cell_type": "code",
      "source": [
        "# サンプルデータの生成\n",
        "def build_sample_data():\n",
        "    np.random.seed(42)\n",
        "    dates = pd.date_range('2024-01-01', periods=365, freq='D')\n",
        "    products = ['商品A', '商品B', '商品C', '商品D']\n",
        "    regions = ['東京', '大阪', '名古屋', '福岡']\n",
        "\n",
        "    # ランダムな売上データを作成\n",
        "    data = []\n",
        "    for _ in range(365):\n",
        "        data.append({\n",
        "            '日付': np.random.choice(dates),\n",
        "            '商品': np.random.choice(products),\n",
        "            '地域': np.random.choice(regions),\n",
        "            '売上金額': np.random.randint(1000, 50000),\n",
        "            '販売数量': np.random.randint(1, 20)\n",
        "        })\n",
        "\n",
        "    return data\n",
        "\n",
        "# データの取得\n",
        "data = build_sample_data()\n",
        "\n",
        "# Pandas DataFrame へ変換\n",
        "df = pd.DataFrame(data)\n",
        "\n",
        "# 日付列を正しく設定\n",
        "df['日付'] = pd.to_datetime(df['日付'])\n",
        "df['月'] = df['日付'].dt.month"
      ],
      "metadata": {
        "id": "rpIFgX5xiE3s"
      },
      "execution_count": 10,
      "outputs": []
    },
    {
      "cell_type": "markdown",
      "source": [
        "### データの一部を観察"
      ],
      "metadata": {
        "id": "A7BeHYYCiT_y"
      }
    },
    {
      "cell_type": "code",
      "source": [
        "# データの先頭５件を表示\n",
        "df.head()"
      ],
      "metadata": {
        "colab": {
          "base_uri": "https://localhost:8080/",
          "height": 206
        },
        "id": "9hdH9VUliXC8",
        "outputId": "918d7997-bc3a-44fe-91f8-747192e16d84"
      },
      "execution_count": 11,
      "outputs": [
        {
          "output_type": "execute_result",
          "data": {
            "text/plain": [
              "          日付   商品   地域   売上金額  販売数量   月\n",
              "0 2024-04-12  商品D   東京  39158    11   4\n",
              "1 2024-03-12  商品A   東京   7265    19   3\n",
              "2 2024-08-02  商品C  名古屋  48191     4   8\n",
              "3 2024-12-25  商品D  名古屋   2685     2  12\n",
              "4 2024-12-09  商品D   大阪   3433     1  12"
            ],
            "text/html": [
              "\n",
              "  <div id=\"df-6c22e20c-cadf-4229-aaea-7694e1612641\" class=\"colab-df-container\">\n",
              "    <div>\n",
              "<style scoped>\n",
              "    .dataframe tbody tr th:only-of-type {\n",
              "        vertical-align: middle;\n",
              "    }\n",
              "\n",
              "    .dataframe tbody tr th {\n",
              "        vertical-align: top;\n",
              "    }\n",
              "\n",
              "    .dataframe thead th {\n",
              "        text-align: right;\n",
              "    }\n",
              "</style>\n",
              "<table border=\"1\" class=\"dataframe\">\n",
              "  <thead>\n",
              "    <tr style=\"text-align: right;\">\n",
              "      <th></th>\n",
              "      <th>日付</th>\n",
              "      <th>商品</th>\n",
              "      <th>地域</th>\n",
              "      <th>売上金額</th>\n",
              "      <th>販売数量</th>\n",
              "      <th>月</th>\n",
              "    </tr>\n",
              "  </thead>\n",
              "  <tbody>\n",
              "    <tr>\n",
              "      <th>0</th>\n",
              "      <td>2024-04-12</td>\n",
              "      <td>商品D</td>\n",
              "      <td>東京</td>\n",
              "      <td>39158</td>\n",
              "      <td>11</td>\n",
              "      <td>4</td>\n",
              "    </tr>\n",
              "    <tr>\n",
              "      <th>1</th>\n",
              "      <td>2024-03-12</td>\n",
              "      <td>商品A</td>\n",
              "      <td>東京</td>\n",
              "      <td>7265</td>\n",
              "      <td>19</td>\n",
              "      <td>3</td>\n",
              "    </tr>\n",
              "    <tr>\n",
              "      <th>2</th>\n",
              "      <td>2024-08-02</td>\n",
              "      <td>商品C</td>\n",
              "      <td>名古屋</td>\n",
              "      <td>48191</td>\n",
              "      <td>4</td>\n",
              "      <td>8</td>\n",
              "    </tr>\n",
              "    <tr>\n",
              "      <th>3</th>\n",
              "      <td>2024-12-25</td>\n",
              "      <td>商品D</td>\n",
              "      <td>名古屋</td>\n",
              "      <td>2685</td>\n",
              "      <td>2</td>\n",
              "      <td>12</td>\n",
              "    </tr>\n",
              "    <tr>\n",
              "      <th>4</th>\n",
              "      <td>2024-12-09</td>\n",
              "      <td>商品D</td>\n",
              "      <td>大阪</td>\n",
              "      <td>3433</td>\n",
              "      <td>1</td>\n",
              "      <td>12</td>\n",
              "    </tr>\n",
              "  </tbody>\n",
              "</table>\n",
              "</div>\n",
              "    <div class=\"colab-df-buttons\">\n",
              "\n",
              "  <div class=\"colab-df-container\">\n",
              "    <button class=\"colab-df-convert\" onclick=\"convertToInteractive('df-6c22e20c-cadf-4229-aaea-7694e1612641')\"\n",
              "            title=\"Convert this dataframe to an interactive table.\"\n",
              "            style=\"display:none;\">\n",
              "\n",
              "  <svg xmlns=\"http://www.w3.org/2000/svg\" height=\"24px\" viewBox=\"0 -960 960 960\">\n",
              "    <path d=\"M120-120v-720h720v720H120Zm60-500h600v-160H180v160Zm220 220h160v-160H400v160Zm0 220h160v-160H400v160ZM180-400h160v-160H180v160Zm440 0h160v-160H620v160ZM180-180h160v-160H180v160Zm440 0h160v-160H620v160Z\"/>\n",
              "  </svg>\n",
              "    </button>\n",
              "\n",
              "  <style>\n",
              "    .colab-df-container {\n",
              "      display:flex;\n",
              "      gap: 12px;\n",
              "    }\n",
              "\n",
              "    .colab-df-convert {\n",
              "      background-color: #E8F0FE;\n",
              "      border: none;\n",
              "      border-radius: 50%;\n",
              "      cursor: pointer;\n",
              "      display: none;\n",
              "      fill: #1967D2;\n",
              "      height: 32px;\n",
              "      padding: 0 0 0 0;\n",
              "      width: 32px;\n",
              "    }\n",
              "\n",
              "    .colab-df-convert:hover {\n",
              "      background-color: #E2EBFA;\n",
              "      box-shadow: 0px 1px 2px rgba(60, 64, 67, 0.3), 0px 1px 3px 1px rgba(60, 64, 67, 0.15);\n",
              "      fill: #174EA6;\n",
              "    }\n",
              "\n",
              "    .colab-df-buttons div {\n",
              "      margin-bottom: 4px;\n",
              "    }\n",
              "\n",
              "    [theme=dark] .colab-df-convert {\n",
              "      background-color: #3B4455;\n",
              "      fill: #D2E3FC;\n",
              "    }\n",
              "\n",
              "    [theme=dark] .colab-df-convert:hover {\n",
              "      background-color: #434B5C;\n",
              "      box-shadow: 0px 1px 3px 1px rgba(0, 0, 0, 0.15);\n",
              "      filter: drop-shadow(0px 1px 2px rgba(0, 0, 0, 0.3));\n",
              "      fill: #FFFFFF;\n",
              "    }\n",
              "  </style>\n",
              "\n",
              "    <script>\n",
              "      const buttonEl =\n",
              "        document.querySelector('#df-6c22e20c-cadf-4229-aaea-7694e1612641 button.colab-df-convert');\n",
              "      buttonEl.style.display =\n",
              "        google.colab.kernel.accessAllowed ? 'block' : 'none';\n",
              "\n",
              "      async function convertToInteractive(key) {\n",
              "        const element = document.querySelector('#df-6c22e20c-cadf-4229-aaea-7694e1612641');\n",
              "        const dataTable =\n",
              "          await google.colab.kernel.invokeFunction('convertToInteractive',\n",
              "                                                    [key], {});\n",
              "        if (!dataTable) return;\n",
              "\n",
              "        const docLinkHtml = 'Like what you see? Visit the ' +\n",
              "          '<a target=\"_blank\" href=https://colab.research.google.com/notebooks/data_table.ipynb>data table notebook</a>'\n",
              "          + ' to learn more about interactive tables.';\n",
              "        element.innerHTML = '';\n",
              "        dataTable['output_type'] = 'display_data';\n",
              "        await google.colab.output.renderOutput(dataTable, element);\n",
              "        const docLink = document.createElement('div');\n",
              "        docLink.innerHTML = docLinkHtml;\n",
              "        element.appendChild(docLink);\n",
              "      }\n",
              "    </script>\n",
              "  </div>\n",
              "\n",
              "\n",
              "    <div id=\"df-e3ab30b7-5719-459b-aac6-0afb7ad0d267\">\n",
              "      <button class=\"colab-df-quickchart\" onclick=\"quickchart('df-e3ab30b7-5719-459b-aac6-0afb7ad0d267')\"\n",
              "                title=\"Suggest charts\"\n",
              "                style=\"display:none;\">\n",
              "\n",
              "<svg xmlns=\"http://www.w3.org/2000/svg\" height=\"24px\"viewBox=\"0 0 24 24\"\n",
              "     width=\"24px\">\n",
              "    <g>\n",
              "        <path d=\"M19 3H5c-1.1 0-2 .9-2 2v14c0 1.1.9 2 2 2h14c1.1 0 2-.9 2-2V5c0-1.1-.9-2-2-2zM9 17H7v-7h2v7zm4 0h-2V7h2v10zm4 0h-2v-4h2v4z\"/>\n",
              "    </g>\n",
              "</svg>\n",
              "      </button>\n",
              "\n",
              "<style>\n",
              "  .colab-df-quickchart {\n",
              "      --bg-color: #E8F0FE;\n",
              "      --fill-color: #1967D2;\n",
              "      --hover-bg-color: #E2EBFA;\n",
              "      --hover-fill-color: #174EA6;\n",
              "      --disabled-fill-color: #AAA;\n",
              "      --disabled-bg-color: #DDD;\n",
              "  }\n",
              "\n",
              "  [theme=dark] .colab-df-quickchart {\n",
              "      --bg-color: #3B4455;\n",
              "      --fill-color: #D2E3FC;\n",
              "      --hover-bg-color: #434B5C;\n",
              "      --hover-fill-color: #FFFFFF;\n",
              "      --disabled-bg-color: #3B4455;\n",
              "      --disabled-fill-color: #666;\n",
              "  }\n",
              "\n",
              "  .colab-df-quickchart {\n",
              "    background-color: var(--bg-color);\n",
              "    border: none;\n",
              "    border-radius: 50%;\n",
              "    cursor: pointer;\n",
              "    display: none;\n",
              "    fill: var(--fill-color);\n",
              "    height: 32px;\n",
              "    padding: 0;\n",
              "    width: 32px;\n",
              "  }\n",
              "\n",
              "  .colab-df-quickchart:hover {\n",
              "    background-color: var(--hover-bg-color);\n",
              "    box-shadow: 0 1px 2px rgba(60, 64, 67, 0.3), 0 1px 3px 1px rgba(60, 64, 67, 0.15);\n",
              "    fill: var(--button-hover-fill-color);\n",
              "  }\n",
              "\n",
              "  .colab-df-quickchart-complete:disabled,\n",
              "  .colab-df-quickchart-complete:disabled:hover {\n",
              "    background-color: var(--disabled-bg-color);\n",
              "    fill: var(--disabled-fill-color);\n",
              "    box-shadow: none;\n",
              "  }\n",
              "\n",
              "  .colab-df-spinner {\n",
              "    border: 2px solid var(--fill-color);\n",
              "    border-color: transparent;\n",
              "    border-bottom-color: var(--fill-color);\n",
              "    animation:\n",
              "      spin 1s steps(1) infinite;\n",
              "  }\n",
              "\n",
              "  @keyframes spin {\n",
              "    0% {\n",
              "      border-color: transparent;\n",
              "      border-bottom-color: var(--fill-color);\n",
              "      border-left-color: var(--fill-color);\n",
              "    }\n",
              "    20% {\n",
              "      border-color: transparent;\n",
              "      border-left-color: var(--fill-color);\n",
              "      border-top-color: var(--fill-color);\n",
              "    }\n",
              "    30% {\n",
              "      border-color: transparent;\n",
              "      border-left-color: var(--fill-color);\n",
              "      border-top-color: var(--fill-color);\n",
              "      border-right-color: var(--fill-color);\n",
              "    }\n",
              "    40% {\n",
              "      border-color: transparent;\n",
              "      border-right-color: var(--fill-color);\n",
              "      border-top-color: var(--fill-color);\n",
              "    }\n",
              "    60% {\n",
              "      border-color: transparent;\n",
              "      border-right-color: var(--fill-color);\n",
              "    }\n",
              "    80% {\n",
              "      border-color: transparent;\n",
              "      border-right-color: var(--fill-color);\n",
              "      border-bottom-color: var(--fill-color);\n",
              "    }\n",
              "    90% {\n",
              "      border-color: transparent;\n",
              "      border-bottom-color: var(--fill-color);\n",
              "    }\n",
              "  }\n",
              "</style>\n",
              "\n",
              "      <script>\n",
              "        async function quickchart(key) {\n",
              "          const quickchartButtonEl =\n",
              "            document.querySelector('#' + key + ' button');\n",
              "          quickchartButtonEl.disabled = true;  // To prevent multiple clicks.\n",
              "          quickchartButtonEl.classList.add('colab-df-spinner');\n",
              "          try {\n",
              "            const charts = await google.colab.kernel.invokeFunction(\n",
              "                'suggestCharts', [key], {});\n",
              "          } catch (error) {\n",
              "            console.error('Error during call to suggestCharts:', error);\n",
              "          }\n",
              "          quickchartButtonEl.classList.remove('colab-df-spinner');\n",
              "          quickchartButtonEl.classList.add('colab-df-quickchart-complete');\n",
              "        }\n",
              "        (() => {\n",
              "          let quickchartButtonEl =\n",
              "            document.querySelector('#df-e3ab30b7-5719-459b-aac6-0afb7ad0d267 button');\n",
              "          quickchartButtonEl.style.display =\n",
              "            google.colab.kernel.accessAllowed ? 'block' : 'none';\n",
              "        })();\n",
              "      </script>\n",
              "    </div>\n",
              "\n",
              "    </div>\n",
              "  </div>\n"
            ],
            "application/vnd.google.colaboratory.intrinsic+json": {
              "type": "dataframe",
              "variable_name": "df",
              "summary": "{\n  \"name\": \"df\",\n  \"rows\": 365,\n  \"fields\": [\n    {\n      \"column\": \"\\u65e5\\u4ed8\",\n      \"properties\": {\n        \"dtype\": \"date\",\n        \"min\": \"2024-01-01 00:00:00\",\n        \"max\": \"2024-12-30 00:00:00\",\n        \"num_unique_values\": 221,\n        \"samples\": [\n          \"2024-04-07 00:00:00\",\n          \"2024-02-03 00:00:00\",\n          \"2024-09-06 00:00:00\"\n        ],\n        \"semantic_type\": \"\",\n        \"description\": \"\"\n      }\n    },\n    {\n      \"column\": \"\\u5546\\u54c1\",\n      \"properties\": {\n        \"dtype\": \"category\",\n        \"num_unique_values\": 4,\n        \"samples\": [\n          \"\\u5546\\u54c1A\",\n          \"\\u5546\\u54c1B\",\n          \"\\u5546\\u54c1D\"\n        ],\n        \"semantic_type\": \"\",\n        \"description\": \"\"\n      }\n    },\n    {\n      \"column\": \"\\u5730\\u57df\",\n      \"properties\": {\n        \"dtype\": \"category\",\n        \"num_unique_values\": 4,\n        \"samples\": [\n          \"\\u540d\\u53e4\\u5c4b\",\n          \"\\u798f\\u5ca1\",\n          \"\\u6771\\u4eac\"\n        ],\n        \"semantic_type\": \"\",\n        \"description\": \"\"\n      }\n    },\n    {\n      \"column\": \"\\u58f2\\u4e0a\\u91d1\\u984d\",\n      \"properties\": {\n        \"dtype\": \"number\",\n        \"std\": 14347,\n        \"min\": 1206,\n        \"max\": 49988,\n        \"num_unique_values\": 365,\n        \"samples\": [\n          18302,\n          34827,\n          38065\n        ],\n        \"semantic_type\": \"\",\n        \"description\": \"\"\n      }\n    },\n    {\n      \"column\": \"\\u8ca9\\u58f2\\u6570\\u91cf\",\n      \"properties\": {\n        \"dtype\": \"number\",\n        \"std\": 5,\n        \"min\": 1,\n        \"max\": 19,\n        \"num_unique_values\": 19,\n        \"samples\": [\n          11,\n          17,\n          6\n        ],\n        \"semantic_type\": \"\",\n        \"description\": \"\"\n      }\n    },\n    {\n      \"column\": \"\\u6708\",\n      \"properties\": {\n        \"dtype\": \"int32\",\n        \"num_unique_values\": 12,\n        \"samples\": [\n          5,\n          6,\n          4\n        ],\n        \"semantic_type\": \"\",\n        \"description\": \"\"\n      }\n    }\n  ]\n}"
            }
          },
          "metadata": {},
          "execution_count": 11
        }
      ]
    },
    {
      "cell_type": "markdown",
      "source": [
        "### データの統計情報を得る"
      ],
      "metadata": {
        "id": "itV9HUjCilT1"
      }
    },
    {
      "cell_type": "code",
      "source": [
        "# 基本的な統計情報\n",
        "df.describe()"
      ],
      "metadata": {
        "id": "N89k-nlkips0"
      },
      "execution_count": null,
      "outputs": []
    },
    {
      "cell_type": "markdown",
      "source": [
        "### グループ集計"
      ],
      "metadata": {
        "id": "Bzr4wQxZjVxS"
      }
    },
    {
      "cell_type": "code",
      "source": [
        "# グループ集計の例\n",
        "print(\"\\n=== 地域別月次売上 ===\")\n",
        "monthly_region = df.groupby(['地域', '月'])['売上金額'].sum().unstack(fill_value=0)\n",
        "monthly_region"
      ],
      "metadata": {
        "id": "mgzn2N84jP6y"
      },
      "execution_count": null,
      "outputs": []
    },
    {
      "cell_type": "markdown",
      "source": [
        "### データの可視化"
      ],
      "metadata": {
        "id": "3i1QuA5JjkS7"
      }
    },
    {
      "cell_type": "code",
      "execution_count": null,
      "metadata": {
        "id": "s8nsCv59ho02"
      },
      "outputs": [],
      "source": [
        "# データ可視化\n",
        "plt.figure(figsize=(12, 4))\n",
        "\n",
        "# 月別売上推移\n",
        "plt.subplot(1, 2, 1)\n",
        "monthly_sales = df.groupby('月')['売上金額'].sum()\n",
        "plt.plot(monthly_sales.index, monthly_sales.values, marker='o')\n",
        "plt.title('月別売上推移')\n",
        "plt.xlabel('月')\n",
        "plt.ylabel('売上金額')\n",
        "\n",
        "# 地域別売上比較\n",
        "plt.subplot(1, 2, 2)\n",
        "region_sales = df.groupby('地域')['売上金額'].sum()\n",
        "plt.bar(region_sales.index, region_sales.values)\n",
        "plt.title('地域別売上')\n",
        "plt.xticks(rotation=45)\n",
        "\n",
        "plt.tight_layout()\n",
        "plt.show()"
      ]
    },
    {
      "cell_type": "code",
      "source": [],
      "metadata": {
        "id": "XMRjECoKjCJ2"
      },
      "execution_count": null,
      "outputs": []
    }
  ]
}